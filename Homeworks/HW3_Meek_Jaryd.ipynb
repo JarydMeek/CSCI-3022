{
 "cells": [
  {
   "cell_type": "markdown",
   "metadata": {},
   "source": [
    "<a id='top'></a>\n",
    "\n",
    "# CSCI3022 S21\n",
    "# Homework 3: Probability and Simulations\n",
    "***\n",
    "\n",
    "**Name**: Jaryd Meek\n",
    "\n",
    "***\n",
    "\n",
    "This assignment is due on Canvas by **MIDNIGHT on Monday, February 22**. Your solutions to theoretical questions should be done in Markdown directly below the associated question.  Your solutions to computational questions should include any specified Python code and results as well as written commentary on your conclusions.  Remember that you are encouraged to discuss the problems with your classmates, but **you must write all code and solutions on your own**.\n",
    "\n",
    "**NOTES**: \n",
    "\n",
    "- Any relevant data sets should be available on Canvas. To make life easier on the graders if they need to run your code, do not change the relative path names here. Instead, move the files around on your computer.\n",
    "- If you're not familiar with typesetting math directly into Markdown then by all means, do your work on paper first and then typeset it later.  Here is a [reference guide](https://math.meta.stackexchange.com/questions/5020/mathjax-basic-tutorial-and-quick-reference) linked on Canvas on writing math in Markdown. **All** of your written commentary, justifications and mathematical work should be in Markdown.  I also recommend the [wikibook](https://en.wikibooks.org/wiki/LaTeX) for LaTex.\n",
    "- Because you can technically evaluate notebook cells is a non-linear order, it's a good idea to do **Kernel $\\rightarrow$ Restart & Run All** as a check before submitting your solutions.  That way if we need to run your code you will know that it will work as expected. \n",
    "- It is **bad form** to make your reader interpret numerical output from your code.  If a question asks you to compute some value from the data you should show your code output **AND** write a summary of the results in Markdown directly below your code. \n",
    "- 95 points of this assignment are in problems.  The remaining 5 are for neatness, style, and overall exposition of both code and text.\n",
    "- This probably goes without saying, but... For any question that asks you to calculate something, you **must show all work and justify your answers to receive credit**. Sparse or nonexistent work will receive sparse or nonexistent credit. \n",
    "\n",
    "---\n",
    "**Shortcuts:**  [Problem 1](#p1) | [Problem 2](#p2) | [Problem 3](#p3) |\n",
    "---"
   ]
  },
  {
   "cell_type": "code",
   "execution_count": 1,
   "metadata": {},
   "outputs": [],
   "source": [
    "import pandas as pd\n",
    "import numpy as np\n",
    "import matplotlib.pylab as plt\n",
    "%matplotlib inline"
   ]
  },
  {
   "cell_type": "markdown",
   "metadata": {},
   "source": [
    "[Back to top](#top)\n",
    "\n",
    "<a id='p1'></a>\n",
    "\n",
    "## (25 pts) Problem 1 (Simulation): Let's play some \"games\"!\n",
    "***\n",
    "\n",
    "One of the big payoffs of simulation is that it can let us answer some probability questions that are otherwise quite difficult.  We can instead just simulate the process and get approximate results based on simulation.\n",
    "\n"
   ]
  },
  {
   "cell_type": "markdown",
   "metadata": {},
   "source": [
    "***\n",
    "### A) Poker... pen-and-paper\n",
    "Game number 1... is Poker!\n",
    "\n",
    "A common example for discrete counting and probability questions are poker hands.  Consider using a standard 52-card playing deck, with card faces `[A,2,3,4,5,6,7,8,9,10,J,Q,K]` across the standard 4 suits: `[C,D,H,S]`.\n",
    "\n",
    "Suppose we draw 5 cards at random from the deck.  What is the exact probability that we have a \"full house:\" a hand with 3 copies of one card face type (of any suits) and the other two cards matches of a different card face type (of any suits)?  Typeset your work below.  You may leave your answer in terms of a ratio of products, but you should simplify away any combinatoric notation such as ${n \\choose k}$ or $P(n,k)$.\n"
   ]
  },
  {
   "cell_type": "markdown",
   "metadata": {},
   "source": [
    "**SOLUTION**\n",
    "\n",
    "There are 5 cards that we are selecting, with three of them being the same. \n",
    "\n",
    "Let $A, A, A, B, B$ represent the set of cards, with A being the three matching cards (of different suits) and B,C being any other cards in the deck\n",
    "\n",
    "There are $C(13,1)$ ways to choose the values for A, then $C(4,3)$ ways to choose the suits. For B there are $C(12,1)$ ways to choose the value for B, and $C(4,2)$ ways to choose the suit.\n",
    "\n",
    "There are $C(52,5)$ ways to pick a 5 card hand from the deck.\n",
    "\n",
    "Therefore, the total probability is -\n",
    "\n",
    "$$ \\frac{C(13,1) \\cdot C(4,3) \\cdot C(12,1) \\cdot C(4,2) }{C(52,5)} \\approx 0.144\\%$$\n",
    "\n",
    "\n"
   ]
  },
  {
   "cell_type": "markdown",
   "metadata": {},
   "source": [
    "***\n",
    "### B) Poker with computers!\n",
    "\n",
    "Write a simulation that draws a hand of 5 cards from a standard 52-card deck. Repeat this simulation 10000 times, and report how many \"full house\" hands were observed. Verify that the result is consistent with your answer to part A.\n",
    "\n",
    "NB: The function `np.unique` can make checking hands easier.  Your actual simulation should have 52 distinct cards, even if we're only using the faces (and not suits) for the check of full house."
   ]
  },
  {
   "cell_type": "code",
   "execution_count": 2,
   "metadata": {},
   "outputs": [
    {
     "name": "stdout",
     "output_type": "stream",
     "text": [
      "Probability of a Full House hand: 0.17%\n"
     ]
    }
   ],
   "source": [
    "cards = [\"CA\", \"C2\", \"C3\", \"C4\", \"C5\", \"C6\", \"C7\", \"C8\", \"C9\", \"C10\", \"CJ\", \"CQ\", \"CK\", \"DA\", \"D2\", \"D3\", \"D4\", \"D5\", \"D6\", \"D7\", \"D8\", \"D9\", \"D10\", \"DJ\", \"DQ\", \"DK\", \"HA\", \"H2\", \"H3\", \"H4\", \"H5\", \"H6\", \"H7\", \"H8\", \"H9\", \"H10\", \"HJ\", \"HQ\", \"HK\", \"SA\", \"S2\", \"S3\", \"S4\", \"S5\", \"S6\", \"S7\", \"S8\", \"S9\", \"S10\", \"SJ\", \"SQ\", \"SK\"]\n",
    "\n",
    "def pickHand():\n",
    "    np.random.shuffle(cards)\n",
    "    hand = np.random.choice(cards, 5, replace=False)\n",
    "    \n",
    "    #Check if full house\n",
    "    check = []\n",
    "    for x in hand:\n",
    "        check.append(x[1:])\n",
    "        \n",
    "    output = [False,False]\n",
    "    for x in check:\n",
    "        if check.count(x) == 3: \n",
    "            output[0] = True\n",
    "            continue\n",
    "        if check.count(x) == 2: \n",
    "            output[1] = True\n",
    "            continue\n",
    "\n",
    "    if output == [True, True]:\n",
    "        return True\n",
    "    else:\n",
    "        return False\n",
    "    \n",
    "def FHSimulation():\n",
    "    simulation = [pickHand() for x in range(10000)]\n",
    "    print(f\"Probability of a Full House hand: {sum(simulation)*100/len(simulation):0.2f}%\")\n",
    "    \n",
    "FHSimulation()\n"
   ]
  },
  {
   "cell_type": "markdown",
   "metadata": {},
   "source": [
    "**Probability when I ran it -> 0.15%**\n",
    "\n",
    "So, our calculated probability is 0.14%, and our experimental probability is 0.15%. These are VERY close, so we can assume that our calculation is correct."
   ]
  },
  {
   "cell_type": "markdown",
   "metadata": {},
   "source": [
    "The Riddler is a column on the website https://fivethirtyeight.com that posts logic, math, and probability puzzles each week.  Some of puzzles can be attacked by simulation and discrete probability: things that we have the tools to solve!\n",
    "\n",
    "Parts C/Eare former Riddler prompts.\n",
    "\n",
    "\n",
    "***\n",
    "### C) A \"solitaire\" game\n",
    "\n",
    "On snowy afternoons, you like to play a solitaire “game” with a standard, randomly shuffled deck of 52 cards. You start dealing cards face up, one at a time, into a pile. As you deal each card, you also speak aloud, in order, the 13 card faces in a standard deck: ace, two, three, etc. (When you get to king, you start over at ace.) You keep doing this until the rank of the card you deal matches the rank you speak aloud, in which case you lose. You win if you reach the end of the deck without any matches.\n",
    "\n",
    "Set up a simulation to answer the prompt: what is the probability that you win?\n",
    "\n",
    "Note that your final result should be *close* to the value of $(12/13)^{52}$, which would be the theoretical result if each card flip was independent.  Was it higher or lower?  Does this match your intuition?"
   ]
  },
  {
   "cell_type": "code",
   "execution_count": 3,
   "metadata": {},
   "outputs": [
    {
     "name": "stdout",
     "output_type": "stream",
     "text": [
      "Probability of winning this solitare hand: 1.69%\n"
     ]
    }
   ],
   "source": [
    "faces = [\"A\", \"2\", \"3\", \"4\", \"5\", \"6\", \"7\", \"8\", \"9\", \"10\", \"J\", \"Q\", \"K\"]\n",
    "\n",
    "def solitare():\n",
    "    np.random.shuffle(cards)\n",
    "    for x in range(0, 52):\n",
    "        if faces[x%13] == cards[x][1:]:\n",
    "            return False\n",
    "    return True\n",
    "        \n",
    "def solitareSimulation():\n",
    "    simulation = [solitare() for x in range(10000)]\n",
    "    print(f\"Probability of winning this solitare hand: {sum(simulation)*100/len(simulation):0.2f}%\")\n",
    "    \n",
    "solitareSimulation()\n"
   ]
  },
  {
   "cell_type": "markdown",
   "metadata": {},
   "source": [
    "**Probability when I ran it -> 1.75%**\n",
    "\n",
    "So, our calculated probability is ~1.56%, and our experimental probability is ~1.75%. These are close, so we can assume that our calculation is correct."
   ]
  },
  {
   "cell_type": "markdown",
   "metadata": {},
   "source": [
    "***\n",
    "### D) Random motion\n",
    "\n",
    "Suppose that all city streets follow a grid layout, running north-south and east-west. You’re driving north when you decide to play a little game. Every time you reach an intersection, you randomly turn left or right, each with a 50 percent chance.\n",
    "\n",
    "After driving through 10 intersections, what is the probability that you are still driving north?\n"
   ]
  },
  {
   "cell_type": "code",
   "execution_count": 4,
   "metadata": {},
   "outputs": [
    {
     "name": "stdout",
     "output_type": "stream",
     "text": [
      "Probability of driving north: 50.28%\n"
     ]
    }
   ],
   "source": [
    "directions = [\"north\", \"east\", \"south\", \"west\"]\n",
    "\n",
    "def turn(head, direction):\n",
    "    index = directions.index(head)\n",
    "    if direction == \"left\":\n",
    "        index -=1\n",
    "    else:\n",
    "        index += 1\n",
    "    \n",
    "    if index == -1:\n",
    "        index = 3\n",
    "    if index == 4:\n",
    "        index = 0\n",
    "    return directions[index]\n",
    "\n",
    "\n",
    "def drive():\n",
    "    turns = np.random.randint(2, size=10)\n",
    "    head = \"north\"\n",
    "    for x in range(10):\n",
    "        if turns[x] == 0:\n",
    "            head = turn(head, \"left\")\n",
    "        elif turns[x] == 1:\n",
    "            head = turn(head, \"right\")\n",
    "    if head == \"north\":\n",
    "        return True\n",
    "    else:\n",
    "        return False\n",
    "    \n",
    "def driveSim():\n",
    "    simulation = [drive() for x in range(10000)]\n",
    "    print(f\"Probability of driving north: {sum(simulation)*100/len(simulation):0.2f}%\")\n",
    "    \n",
    "driveSim()"
   ]
  },
  {
   "cell_type": "markdown",
   "metadata": {},
   "source": [
    "After driving through 10 intersections, you have a roughly 50% chance of driving north. This makes sense coneceptually.\n",
    "\n",
    "Before the first turn, you are going north\n",
    "After 1 turn, you are going either east or west\n",
    "After 2 turns you are either going north or south\n",
    "\n",
    "and so on, so when you hit the 10th intersection, you are going either east or west, and you MUST turn meaning you have a ~50% chance of going north and a roughly ~50% chance of going south"
   ]
  },
  {
   "cell_type": "markdown",
   "metadata": {},
   "source": [
    "***\n",
    "### E) More Random motion\n",
    "\n",
    "Now suppose that at every intersection, there’s a one-third chance you turn left, a one-third chance you turn right and a one-third chance you drive straight. Create a set of simulations that record which direction you're driving 11 times.  \n",
    "\n",
    "It is recommended that you save the results in a data frame of the form below:\n",
    "\n",
    "| Start | T1 | T2 | T3 | ... | T10 |\n",
    "| --- | --- |\n",
    "| N | E | N | W| ... | N |\n",
    "| N | W | W | S | ... | E|\n",
    "| N | W | N | E | ... | W|\n",
    "\n",
    "then create a plot where the $x$ axis is \"numbers of turns made\" from 0 to 10, and the $y$ axis is \"probability that you're driving North.\"\n"
   ]
  },
  {
   "cell_type": "code",
   "execution_count": 5,
   "metadata": {},
   "outputs": [
    {
     "data": {
      "image/png": "[encoded data removed]",
      "text/plain": [
       "<Figure size 1080x576 with 1 Axes>"
      ]
     },
     "metadata": {
      "needs_background": "light"
     },
     "output_type": "display_data"
    }
   ],
   "source": [
    "array = [0,0,0,0,0,0,0,0,0,0,0]\n",
    "def drive2(array):\n",
    "    turns = np.random.randint(3, size=11)\n",
    "    head = \"north\"\n",
    "    for x in range(11):\n",
    "        if head == \"north\":\n",
    "            array[x] += 1\n",
    "        if turns[x] == 0:\n",
    "            head = turn(head, \"left\")\n",
    "        elif turns[x] == 1:\n",
    "            head = turn(head, \"right\")\n",
    "        #no change if straight\n",
    "    return head\n",
    "    \n",
    "def driveSim2():\n",
    "    simulation = [drive2(array) for x in range(10000)]\n",
    "    #print(f\"Probability of driving north: {sum(simulation)*100/len(simulation):0.2f}%\")\n",
    "    for x in range(0,11):\n",
    "        array[x] = array[x]/10000\n",
    "    \n",
    "    \n",
    "    \n",
    "    array2 = [0,1,2,3,4,5,6,7,8,9,10]\n",
    "    \n",
    "    df = pd.DataFrame(array,columns=['Probability of traveling north'])\n",
    "    \n",
    "    \n",
    "    fig, ax = plt.subplots(figsize=(15,8))\n",
    "\n",
    "    df.plot(ax=ax, kind='bar')\n",
    "\n",
    "    # Add titles and labels \n",
    "    ax.set_title(\"Probability Of Traveling North After Each Intersection\", fontsize=20)\n",
    "    ax.set_xlabel(\"Number of Intersections\", fontsize=16)\n",
    "    ax.set_ylabel(\"Probability\", fontsize=16)\n",
    "\n",
    "    # Make grid lighter and set behind data\n",
    "    ax.legend(loc='center right')\n",
    "    ax.grid(alpha=0.25)\n",
    "    ax.set_axisbelow(True)\n",
    "    \n",
    "driveSim2()"
   ]
  },
  {
   "cell_type": "markdown",
   "metadata": {},
   "source": [
    "[Back to top](#top)\n",
    "<a/ id='p2'></a>\n",
    "\n",
    "## (20 pts) Problem 2 (Simulation and Theory): Bayes and Repeated Observations\n",
    "***\n",
    "\n",
    "\n",
    "To play a game, you have a bag containing 25 fair six-sided dice, with faces `{1,2,3,4,5,6}`.  <img style=\"float: right; width: 200px; padding: 3mm;\" src=\"https://images-na.ssl-images-amazon.com/images/I/619NZnvxJaL._SX425_.jpg\" alt=\"Drawing\"/>\n",
    "This bag also contains 10 fair eight-sided dice (faces `{1,2,3,4,5,6,7,8}`) and 2 fair twenty-sided dice (faces `{1,2,3,4,...,19,20}`).  Call these 3 classes of die \"Six\", \"Eight\" and \"Twenty\" (or S, E, and T, for short). In order to be sure that you are not distinguishing dice by their feel, you are required to wear crab claw gloves. After donning your gloves, you grab one die at random from the bag. \n",
    "\n",
    "Work the following problems by hand (or claw) unless otherwise stated (but don't be afraid to simulate to check your result!). "
   ]
  },
  {
   "cell_type": "markdown",
   "metadata": {},
   "source": [
    "***\n",
    "### Part A: You roll your die one time.  What is the probability of the event $R_7$, that you roll a 7?  Include at least 4 decimal places in your answer."
   ]
  },
  {
   "cell_type": "markdown",
   "metadata": {},
   "source": [
    "what's the probability to get a 7 from each kind of die -\n",
    "\n",
    "6 sided dice -> 0\n",
    "\n",
    "8 sided dice -> 1/8\n",
    "\n",
    "20 sided dice -> 1/20\n",
    "\n",
    "what's the probability of getting each kind of dice -\n",
    "\n",
    "6 sided dice -> 25/37\n",
    "\n",
    "8 sided dice -> 10/37\n",
    "\n",
    "20 sided dice -> 2/37\n",
    "\n",
    "Now we can calculate the probability,\n",
    "\n",
    "Probability = chance to get each dice * chance of each dice to roll a 7\n",
    "\n",
    "So,\n",
    "\n",
    "$$ P(7) = (0 \\cdot 25/37) + (1/8 \\cdot 10/37) + (1/20 \\cdot 2/37) = 0.03649 = \\mathbf{3.649\\%}$$"
   ]
  },
  {
   "cell_type": "markdown",
   "metadata": {},
   "source": [
    "***\n",
    "### Part B: Suppose you roll a 7.  What is the probability that the die you chose from the bag is an Eight-sided die? "
   ]
  },
  {
   "cell_type": "markdown",
   "metadata": {},
   "source": [
    "**P(8 sided die | 7)**\n",
    "\n",
    "Apply Bayes theorem -\n",
    "\n",
    "$$P(\\text{8 sided die }| 7) = \\frac{P(7 |\\text{8 sided die}) \\cdot P(\\text{8 sided die}))}{P(7)} = \\frac{1/8 * 10/37} {0.03649} = 0.9259 = \\mathbf{92.59\\%}$$"
   ]
  },
  {
   "cell_type": "markdown",
   "metadata": {},
   "source": [
    "***\n",
    "### Part C: Are the events $R_7$ and $E$ independent?  Justify your answer **using math**."
   ]
  },
  {
   "cell_type": "markdown",
   "metadata": {},
   "source": [
    "Two events are independent if $P(A|B) = P(A)$\n",
    "\n",
    "$$P(R_7|E) = (1/8)*(10/37) = 0.03378$$\n",
    "\n",
    "And we know that probability of picking a 7 from part 1\n",
    "$$P(R_7) = 0.03649$$\n",
    "\n",
    "Therefore, since $P(R_7|E) \\neq P(R_7)$ the events are **NOT** independent"
   ]
  },
  {
   "cell_type": "markdown",
   "metadata": {},
   "source": [
    "*** \n",
    "### Part D:  Suppose you roll your die $n$ times and record each outcome.  Obviously, if you roll 7 or 8 you know you did *not* pick a Six-sided die, and if you roll a 9 or higher, you must have picked a Twenty-sided die.\n",
    "\n",
    "But, if you roll $n$ times in a row and get only 1, 2, 3, 4, 5, or 6 you would have a stronger belief that you in fact grabbed one of the Six-sided dice.  Let $L_n$ be the event that you roll $n$ rolls of 1, 2, 3, 4, 5, or 6 in a row.  For example, one outcome in $L_3$ is the sequence 2, 3, 1.\n",
    "\n",
    "Given that you roll a single value of 1, 2, 3, 4, 5, or 6, what is the probability that you have grabbed a Six-sided die?  That is, calculate **by hand** $P(S \\mid L_1)$."
   ]
  },
  {
   "cell_type": "markdown",
   "metadata": {},
   "source": [
    "Apply Bayes' Theorem -\n",
    "\n",
    "$$P(S \\mid L_1) = \\frac{P(L_1 \\mid S) \\cdot P(S)}{P(L_1)}$$\n",
    "\n",
    "what's the probability to get a 1-6 from each kind of die -\n",
    "\n",
    "6 sided dice -> 1\n",
    "\n",
    "8 sided dice -> 6/8 = 3/4\n",
    "\n",
    "20 sided dice -> 6/20 = 3/10\n",
    "\n",
    "what's the probability of getting each kind of dice -\n",
    "\n",
    "6 sided dice -> 25/37\n",
    "\n",
    "8 sided dice -> 10/37\n",
    "\n",
    "20 sided dice -> 2/37\n",
    "\n",
    "By law of total probability\n",
    "\n",
    "$$P(L_1) = 1(25/37) + 3/4(10/37) + 3/10(2/37) = 0.89459 = 89.459 \\%$$\n",
    "\n",
    "Now we can subsititue that back into the original equation -\n",
    "\n",
    "$$P(S \\mid L_1) = \\frac{P(L_1 \\mid S) \\cdot P(S)}{P(L_1)} = \\frac{1 \\cdot 25/37}{0.89459} = 0.75529 = \\mathbf{75.529\\%}$$"
   ]
  },
  {
   "cell_type": "markdown",
   "metadata": {},
   "source": [
    "***\n",
    "### Part E:  \n",
    "\n",
    "First, work out **by hand** a formula for the probability in general that you are rolling a Six-sided die, given that you have rolled $n$ values in a row that are 1, 2, 3, 4, 5 or 6 (that is, $L_n$).  So you want a formula for $P(S \\mid L_n)$ in terms of $n$.\n",
    "\n",
    "Then, define a function `prob_six` to calculate $P(S \\mid L_n)$.  This function should only take one positive integer argument, $n$.\n",
    "\n",
    "Verify that your function is performing as expected by checking your answer to **Part D**."
   ]
  },
  {
   "cell_type": "markdown",
   "metadata": {},
   "source": [
    "Use Bayes' Theorem - \n",
    "\n",
    "$$P(S \\mid L_n) = \\frac{P(L_n \\mid S) \\cdot P(S)}{P(L_n)}$$\n",
    "\n",
    "As shown in problem D, $P(L_n \\mid S) = 1$ and $P(S) = 25/37$\n",
    "\n",
    "Also as shown in problem d\n",
    "\n",
    "$P(L_n)=P(L_n|S)^{n}P(S)+P(L_n|E)^{n}P(E)+P(L_n|T)^{n}P(T)$\n",
    "\n",
    "Substituting these back into the original equation\n",
    "$$P(S \\mid L_n) = \\frac{1 \\cdot 25/37}{1(25/37) + (3/4)^n(10/37) + (3/10)^n(2/37)}$$"
   ]
  },
  {
   "cell_type": "code",
   "execution_count": 6,
   "metadata": {},
   "outputs": [
    {
     "name": "stdout",
     "output_type": "stream",
     "text": [
      "0.7552870090634441\n"
     ]
    }
   ],
   "source": [
    "def prob_six(n):\n",
    "    num = 25/37\n",
    "    denom = (25/37) + (((3/4)**n)*(10/37)) + (((3/10)**n)*(2/37))\n",
    "    return num/denom\n",
    "\n",
    "# Verification of Part D answer:  plug in n=1\n",
    "print(prob_six(1))"
   ]
  },
  {
   "cell_type": "markdown",
   "metadata": {},
   "source": [
    "Our function matches the value we got for Part D! (0.7552870090634441)"
   ]
  },
  {
   "cell_type": "markdown",
   "metadata": {},
   "source": [
    "***\n",
    "### Part F:  What is the smallest value of $n$ successive rolls of 1, 2, 3, 4, 5 or 6 that would make you believe that there's a better-than-95% chance that the die you grabbed is Six-sided?  Plugging larger and larger values for $n$ into your `prob_six` function is a very reasonable way to check this."
   ]
  },
  {
   "cell_type": "code",
   "execution_count": 7,
   "metadata": {},
   "outputs": [
    {
     "name": "stdout",
     "output_type": "stream",
     "text": [
      "Number of rolls to get a better than 95% chance the die is a six-sided die: 8\n",
      "The chance at this n value is 96.15%\n"
     ]
    }
   ],
   "source": [
    "prob = 0\n",
    "rolls = 0\n",
    "while (prob < 0.95):\n",
    "    rolls+=1\n",
    "    prob = prob_six(rolls)\n",
    "\n",
    "\n",
    "print(\"Number of rolls to get a better than 95% chance the die is a six-sided die: \" + str(rolls))\n",
    "print(f\"The chance at this n value is {100 * prob:.2f}%\")"
   ]
  },
  {
   "cell_type": "markdown",
   "metadata": {},
   "source": [
    "[Back to top](#top)\n",
    "<a/ id='p3'></a>\n",
    "\n",
    "## (5 pts) Problem 3 (Theory): It's probably Bayes\n",
    "***\n"
   ]
  },
  {
   "cell_type": "markdown",
   "metadata": {},
   "source": [
    "To get published in an academic journal, you have to prove something \"interesting.\"  As a result, most academics begin their research by investigating hypotheses that, all else equal, are unlikely to be true.  Suppose each research project begins with a research *hypothesis* that has a 7% chance of being correct.\n",
    "\n",
    "They then perform a study that satisfies the following two properties:\n",
    "\n",
    "    1) The probability that they correctly *find* an important result given that their *hypothesis* is true is 50%\n",
    "    2) The probability that they incorrectly *find* an important result given that their *hypothesis* is false is 5%\n",
    "\n",
    "If they *find* an important result they are published.  What is the probability that their *hypothesis* was true, given that they were published?"
   ]
  },
  {
   "cell_type": "markdown",
   "metadata": {},
   "source": [
    "**SOLUTION**\n",
    "\n",
    "P(True Hypothesis|Published) = P(Hypothesis is true|Found important result)\n",
    "\n",
    "*Given Info -*\n",
    "\n",
    "P(True Hypothesis) = 0.07\n",
    "\n",
    "P(False Hypothesis) = 0.93\n",
    "\n",
    "P(Important Result|True Hypothesis) = 0.5\n",
    "\n",
    "P(Important Result|False Hypothesis) = 0.05\n",
    "\n",
    "Apply Bayes' Theorem:\n",
    "$$P(\\text{True Hypothesis}|\\text{Published}) = \\frac{P(\\text{Published}|\\text{True Hypothesis})\\cdot P(\\text{True Hypothesis})}{P(\\text{Published})}$$\n",
    "\n",
    "To solve this, we need P(Published) which we can obtain using the law of total probability -\n",
    "\n",
    "$$P(Published) = P(\\text{Published}|\\text{True Hypothesis})\\cdot P(\\text{True Hypothesis}) + P(\\text{Important Result}|\\text{False Hypothesis})\\cdot P(\\text{False Hypothesis}) $$\n",
    "\n",
    "$$ = P(Published) = 0.5 \\cdot 0.07 + 0.05 \\cdot 0.93 = 0.0815 $$\n",
    "\n",
    "We can then sub this in for the earlier equation\n",
    "\n",
    "$$P(\\text{True Hypothesis}|\\text{Published}) = \\frac{P(\\text{Published}|\\text{True Hypothesis})\\cdot P(\\text{True Hypothesis})}{P(\\text{Published})}$$\n",
    "\n",
    "$$P(\\text{True Hypothesis}|\\text{Published}) = \\frac{0.5\\cdot 0.07}{0.0815} = 42.94\\%$$\n"
   ]
  },
  {
   "cell_type": "markdown",
   "metadata": {},
   "source": [
    "[Back to top](#top)"
   ]
  }
 ],
 "metadata": {
  "kernelspec": {
   "display_name": "Python 3",
   "language": "python",
   "name": "python3"
  },
  "language_info": {
   "codemirror_mode": {
    "name": "ipython",
    "version": 3
   },
   "file_extension": ".py",
   "mimetype": "text/x-python",
   "name": "python",
   "nbconvert_exporter": "python",
   "pygments_lexer": "ipython3",
   "version": "3.8.5"
  }
 },
 "nbformat": 4,
 "nbformat_minor": 2
}
