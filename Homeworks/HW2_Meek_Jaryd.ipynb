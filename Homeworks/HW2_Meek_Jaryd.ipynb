{
 "cells": [
  {
   "cell_type": "markdown",
   "metadata": {},
   "source": [
    "<a id='top'></a>\n",
    "\n",
    "# CSCI3022 S21\n",
    "# Homework 2: Data Wrangling and Visualizations\n",
    "***\n",
    "\n",
    "**Name**: Jaryd Meek\n",
    "\n",
    "***\n",
    "\n",
    "This assignment is due on Canvas by **MIDNIGHT on Monday, February 8**. Your solutions to theoretical questions should be done in Markdown directly below the associated question.  Your solutions to computational questions should include any specified Python code and results as well as written commentary on your conclusions.  Remember that you are encouraged to discuss the problems with your classmates, but **you must write all code and solutions on your own**.\n",
    "\n",
    "**NOTES**: \n",
    "\n",
    "- Any relevant data sets should be available on Canvas. To make life easier on the graders if they need to run your code, do not change the relative path names here. Instead, move the files around on your computer.\n",
    "- If you're not familiar with typesetting math directly into Markdown then by all means, do your work on paper first and then typeset it later.  Here is a [reference guide](https://math.meta.stackexchange.com/questions/5020/mathjax-basic-tutorial-and-quick-reference) linked on Canvas on writing math in Markdown. **All** of your written commentary, justifications and mathematical work should be in Markdown.  I also recommend the [wikibook](https://en.wikibooks.org/wiki/LaTeX) for LaTex.\n",
    "- Because you can technically evaluate notebook cells is a non-linear order, it's a good idea to do **Kernel $\\rightarrow$ Restart & Run All** as a check before submitting your solutions.  That way if we need to run your code you will know that it will work as expected. \n",
    "- It is **bad form** to make your reader interpret numerical output from your code.  If a question asks you to compute some value from the data you should show your code output **AND** write a summary of the results in Markdown directly below your code. \n",
    "- 95 points of this assignment are in problems.  The remaining 5 are for neatness, style, and overall exposition of both code and text.\n",
    "- This probably goes without saying, but... For any question that asks you to calculate something, you **must show all work and justify your answers to receive credit**. Sparse or nonexistent work will receive sparse or nonexistent credit. \n",
    "\n",
    "---\n",
    "**Shortcuts:**  [Problem 1](#p1) | [Problem 2](#p2) |\n",
    "---"
   ]
  },
  {
   "cell_type": "code",
   "execution_count": 1,
   "metadata": {},
   "outputs": [],
   "source": [
    "import pandas as pd\n",
    "import numpy as np\n",
    "import matplotlib.pylab as plt\n",
    "%matplotlib inline"
   ]
  },
  {
   "cell_type": "markdown",
   "metadata": {},
   "source": [
    "[Back to top](#top)\n",
    "\n",
    "<a id='p1'></a>\n",
    "\n",
    "## (25 pts) Problem 1: Data (Probability and Histograms)\n",
    "*** \n",
    "The sinking of the RMS Titanic was a terrible tragedy that saw the loss of many lives. Even within this tragedy, thanks to the combinations of the records of the White Star Line and the thorough nature of follow-up research after the accident we have some records that can help us try to piece together the course of events on board the ship. Many of the historians and other researchers who have investigated this event have speculated as to what exactly happened.\n",
    "\n",
    "We have the data on survival rates by class, gender, and age, so let's figure out whether there is evidence for some of these scenarios. Access the Titanic data in `titanic_data.csv` and store it in a Pandas DataFrame. The data contains information pertaining to class status (**Pclass**), survival (**Survived**), and gender (**Sex**) of passengers, among other things. Be sure to use the `titanic_data.csv` data set, *not* the `clean_titanic_data` file or `dirty_titanic_data` file from the in-class notebook exercises."
   ]
  },
  {
   "cell_type": "code",
   "execution_count": 2,
   "metadata": {},
   "outputs": [
    {
     "data": {
      "text/html": [
       "<div>\n",
       "<style scoped>\n",
       "    .dataframe tbody tr th:only-of-type {\n",
       "        vertical-align: middle;\n",
       "    }\n",
       "\n",
       "    .dataframe tbody tr th {\n",
       "        vertical-align: top;\n",
       "    }\n",
       "\n",
       "    .dataframe thead th {\n",
       "        text-align: right;\n",
       "    }\n",
       "</style>\n",
       "<table border=\"1\" class=\"dataframe\">\n",
       "  <thead>\n",
       "    <tr style=\"text-align: right;\">\n",
       "      <th></th>\n",
       "      <th>PassengerId</th>\n",
       "      <th>Survived</th>\n",
       "      <th>Pclass</th>\n",
       "      <th>Name</th>\n",
       "      <th>Sex</th>\n",
       "      <th>Age</th>\n",
       "      <th>SibSp</th>\n",
       "      <th>Parch</th>\n",
       "      <th>Ticket</th>\n",
       "      <th>Fare</th>\n",
       "      <th>Cabin</th>\n",
       "      <th>Embarked</th>\n",
       "    </tr>\n",
       "  </thead>\n",
       "  <tbody>\n",
       "    <tr>\n",
       "      <th>0</th>\n",
       "      <td>1</td>\n",
       "      <td>0</td>\n",
       "      <td>3</td>\n",
       "      <td>Braund, Mr. Owen Harris</td>\n",
       "      <td>male</td>\n",
       "      <td>36.0</td>\n",
       "      <td>1</td>\n",
       "      <td>0</td>\n",
       "      <td>A/5 21171</td>\n",
       "      <td>7.2500</td>\n",
       "      <td>NaN</td>\n",
       "      <td>S</td>\n",
       "    </tr>\n",
       "    <tr>\n",
       "      <th>1</th>\n",
       "      <td>2</td>\n",
       "      <td>1</td>\n",
       "      <td>1</td>\n",
       "      <td>Cumings, Mrs. John Bradley (Florence Briggs Th...</td>\n",
       "      <td>female</td>\n",
       "      <td>18.0</td>\n",
       "      <td>1</td>\n",
       "      <td>0</td>\n",
       "      <td>PC 17599</td>\n",
       "      <td>71.2833</td>\n",
       "      <td>C85</td>\n",
       "      <td>C</td>\n",
       "    </tr>\n",
       "    <tr>\n",
       "      <th>2</th>\n",
       "      <td>3</td>\n",
       "      <td>1</td>\n",
       "      <td>3</td>\n",
       "      <td>Heikkinen, Miss. Laina</td>\n",
       "      <td>female</td>\n",
       "      <td>14.0</td>\n",
       "      <td>0</td>\n",
       "      <td>0</td>\n",
       "      <td>STON/O2. 3101282</td>\n",
       "      <td>7.9250</td>\n",
       "      <td>NaN</td>\n",
       "      <td>S</td>\n",
       "    </tr>\n",
       "    <tr>\n",
       "      <th>3</th>\n",
       "      <td>4</td>\n",
       "      <td>1</td>\n",
       "      <td>1</td>\n",
       "      <td>Futrelle, Mrs. Jacques Heath (Lily May Peel)</td>\n",
       "      <td>female</td>\n",
       "      <td>27.0</td>\n",
       "      <td>1</td>\n",
       "      <td>0</td>\n",
       "      <td>113803</td>\n",
       "      <td>53.1000</td>\n",
       "      <td>C123</td>\n",
       "      <td>S</td>\n",
       "    </tr>\n",
       "    <tr>\n",
       "      <th>4</th>\n",
       "      <td>5</td>\n",
       "      <td>0</td>\n",
       "      <td>3</td>\n",
       "      <td>Allen, Mr. William Henry</td>\n",
       "      <td>male</td>\n",
       "      <td>63.0</td>\n",
       "      <td>0</td>\n",
       "      <td>0</td>\n",
       "      <td>373450</td>\n",
       "      <td>8.0500</td>\n",
       "      <td>NaN</td>\n",
       "      <td>S</td>\n",
       "    </tr>\n",
       "  </tbody>\n",
       "</table>\n",
       "</div>"
      ],
      "text/plain": [
       "   PassengerId  Survived  Pclass  \\\n",
       "0            1         0       3   \n",
       "1            2         1       1   \n",
       "2            3         1       3   \n",
       "3            4         1       1   \n",
       "4            5         0       3   \n",
       "\n",
       "                                                Name     Sex   Age  SibSp  \\\n",
       "0                            Braund, Mr. Owen Harris    male  36.0      1   \n",
       "1  Cumings, Mrs. John Bradley (Florence Briggs Th...  female  18.0      1   \n",
       "2                             Heikkinen, Miss. Laina  female  14.0      0   \n",
       "3       Futrelle, Mrs. Jacques Heath (Lily May Peel)  female  27.0      1   \n",
       "4                           Allen, Mr. William Henry    male  63.0      0   \n",
       "\n",
       "   Parch            Ticket     Fare Cabin Embarked  \n",
       "0      0         A/5 21171   7.2500   NaN        S  \n",
       "1      0          PC 17599  71.2833   C85        C  \n",
       "2      0  STON/O2. 3101282   7.9250   NaN        S  \n",
       "3      0            113803  53.1000  C123        S  \n",
       "4      0            373450   8.0500   NaN        S  "
      ]
     },
     "execution_count": 2,
     "metadata": {},
     "output_type": "execute_result"
    }
   ],
   "source": [
    "filepath = '../Data/titanic_data.csv'\n",
    "df = pd.read_csv(filepath)\n",
    "df.head()"
   ]
  },
  {
   "cell_type": "markdown",
   "metadata": {},
   "source": [
    "**Part A**:\n",
    "Based on the overall population of passengers, report the probability of survival.\n",
    "\n",
    "$$P(Survived=1)$$"
   ]
  },
  {
   "cell_type": "code",
   "execution_count": 3,
   "metadata": {},
   "outputs": [
    {
     "name": "stdout",
     "output_type": "stream",
     "text": [
      "Probability of Survival - 39.28%\n"
     ]
    }
   ],
   "source": [
    "#Your Code here\n",
    "peopleSurvived = np.sum(df[\"Survived\"]==1)\n",
    "totalPeople = len(df)\n",
    "print(\"Probability of Survival - {0:.2f}%\".format(100*(peopleSurvived/totalPeople)))"
   ]
  },
  {
   "cell_type": "markdown",
   "metadata": {},
   "source": [
    "**Part B**: \n",
    "Some claim that the final hours aboard the RMS Titanic were marked by \"class warfare\" in which the people with first-class tickets took all the good spots on the lifeboats; others claim that the final hours were characterized by male chivalry, in which the men valiantly gave up their positions in the boats and succumbed bravely to the depths of the Atlantic. \n",
    "\n",
    "Consider the two claims: class warfare, and male chivalry. Suppose that class warfare occurred in the final hours aboard the Titanic.  What patterns might you expect to see in the data?  Suppose that male chivalry was widespread during the final hours instead. What patterns might you then expect to see in the data?  Explain both of these hypothesized patterns in words. Are these two hypotheses mutually exclusive or not?"
   ]
  },
  {
   "cell_type": "markdown",
   "metadata": {},
   "source": [
    "**SOLUTION**\n",
    "*Class Warfare -* If this occurred on the titanic I would expect the data to show that the probability of a person with a better class status surviving would be greater than the probability of a person with a lower class status.\n",
    "\n",
    "*Male Chivalry -* If this occured on the titanic, I would expect teh data to show that the probability of women surviving would be greater than the probability of men surviving.\n",
    "\n",
    "*Mutually Exclusive -* No. It's possible that both class warfare and male chivalry occured on the Titanic."
   ]
  },
  {
   "cell_type": "markdown",
   "metadata": {},
   "source": [
    "**Part C**: Use Pandas methods to create a clean data set by removing any rows from the DataFrame that are missing values corresponding to **Survived**, **Pclass**, **Age**, or **Sex**. Store the clean data in a DataFrame called dfTitanic. Be sure to show any exploratory work determining if/where there are rows with missing values. _HINT: There should be 714 rows in your cleaned data set._"
   ]
  },
  {
   "cell_type": "code",
   "execution_count": 4,
   "metadata": {},
   "outputs": [
    {
     "name": "stdout",
     "output_type": "stream",
     "text": [
      "Number of rows in the original list - 891\n",
      "Number of rows in the cleaned list - 714\n"
     ]
    }
   ],
   "source": [
    "#Thinking to find where the data is blank\n",
    "#print a large number of values and see what happens with blank data\n",
    "#df.head(20)\n",
    "#We can see pandas fills empty data with NaN\n",
    "#A quick google search tells us to use .dropna() to clean out empty rows, we just need to feed it with rows to check for data to clean\n",
    "\n",
    "#Clean the data and store it as a new array\n",
    "dfCleaned = df.dropna(subset=[\"Survived\",\"Pclass\",\"Age\",\"Sex\"])\n",
    "\n",
    "\n",
    "print(\"Number of rows in the original list - \" + str(len(df)))\n",
    "print(\"Number of rows in the cleaned list - \" + str(len(dfCleaned)))"
   ]
  },
  {
   "cell_type": "markdown",
   "metadata": {},
   "source": [
    "**Part D**: Compute the probability of survival according to class, gender, and all combinations of the two variables.  Then, answer the following questions:\n",
    "* **(i)** When reviewing class survival probability, how do the results compare to the base survival probability results from **Part A**?\n",
    "* **(ii)** When reviewing gender survival probability, how do the results compare to the base survival probability results from **Part A**?\n",
    "* **(iii)** Within each passenger class, were men or women more/less/equally likely to survive?\n",
    "* **(iv)**  Did men in first class or women in third class have a higher survival probability?\n"
   ]
  },
  {
   "cell_type": "code",
   "execution_count": 5,
   "metadata": {},
   "outputs": [
    {
     "name": "stdout",
     "output_type": "stream",
     "text": [
      "Probability of Survival of First Class - 64.29%\n",
      "Probability of Survival of Second Class - 48.28%\n",
      "Probability of Survival of Third Class - 25.19%\n",
      "Probability of Survival of Males - 19.65%\n",
      "Probability of Survival of Females - 74.90%\n",
      "-----------------\n",
      "Probability of Survival of First Class Males - 38.71%\n",
      "Probability of Survival of Second Class Males - 18.39%\n",
      "Probability of Survival of Third Class Males - 13.78%\n",
      "Probability of Survival of First Class Females - 96.00%\n",
      "Probability of Survival of Second Class Females - 93.10%\n",
      "Probability of Survival of Third Class Females - 52.54%\n"
     ]
    }
   ],
   "source": [
    "#Calculate the Probabilities\n",
    "#Probability of Survival-\n",
    "\n",
    "#Number of people in class that survived / number of people in class\n",
    "probClass1 = dfCleaned.loc[dfCleaned[\"Pclass\"]==1, \"Survived\"].sum()/np.sum(dfCleaned[\"Pclass\"] == 1)\n",
    "probClass2 = dfCleaned.loc[dfCleaned[\"Pclass\"]==2, \"Survived\"].sum()/np.sum(dfCleaned[\"Pclass\"] == 2)\n",
    "probClass3 = dfCleaned.loc[dfCleaned[\"Pclass\"]==3, \"Survived\"].sum()/np.sum(dfCleaned[\"Pclass\"] == 3)\n",
    "\n",
    "#Number of people in gender that survived / number of people in gender\n",
    "probMale = dfCleaned.loc[dfCleaned[\"Sex\"]== \"male\", \"Survived\"].sum()/np.sum(dfCleaned[\"Sex\"]== \"male\")\n",
    "probFemale = dfCleaned.loc[dfCleaned[\"Sex\"]==\"female\", \"Survived\"].sum()/np.sum(dfCleaned[\"Sex\"]== \"female\")\n",
    "\n",
    "\n",
    "#number of people in class and gender that survived/number of people in class and gender\n",
    "probM1 = dfCleaned.loc[(dfCleaned[\"Sex\"] == \"male\") & (dfCleaned[\"Pclass\"] == 1), \"Survived\"].sum()/len(dfCleaned.loc[(dfCleaned[\"Sex\"] == \"male\") & (dfCleaned[\"Pclass\"] == 1)])\n",
    "probM2 = dfCleaned.loc[(dfCleaned[\"Sex\"] == \"male\") & (dfCleaned[\"Pclass\"] == 2), \"Survived\"].sum()/len(dfCleaned.loc[(dfCleaned[\"Sex\"] == \"male\") & (dfCleaned[\"Pclass\"] == 2)])\n",
    "probM3 = dfCleaned.loc[(dfCleaned[\"Sex\"] == \"male\") & (dfCleaned[\"Pclass\"] == 3), \"Survived\"].sum()/len(dfCleaned.loc[(dfCleaned[\"Sex\"] == \"male\") & (dfCleaned[\"Pclass\"] == 3)])\n",
    "probF1 = dfCleaned.loc[(dfCleaned[\"Sex\"] == \"female\") & (dfCleaned[\"Pclass\"] == 1), \"Survived\"].sum()/len(dfCleaned.loc[(dfCleaned[\"Sex\"] == \"female\") & (dfCleaned[\"Pclass\"] == 1)])\n",
    "probF2 = dfCleaned.loc[(dfCleaned[\"Sex\"] == \"female\") & (dfCleaned[\"Pclass\"] == 2), \"Survived\"].sum()/len(dfCleaned.loc[(dfCleaned[\"Sex\"] == \"female\") & (dfCleaned[\"Pclass\"] == 2)])\n",
    "probF3 = dfCleaned.loc[(dfCleaned[\"Sex\"] == \"female\") & (dfCleaned[\"Pclass\"] == 3), \"Survived\"].sum()/len(dfCleaned.loc[(dfCleaned[\"Sex\"] == \"female\") & (dfCleaned[\"Pclass\"] == 3)])\n",
    "\n",
    "print(\"Probability of Survival of First Class - {0:.2f}%\".format(100*probClass1))\n",
    "print(\"Probability of Survival of Second Class - {0:.2f}%\".format(100*probClass2))\n",
    "print(\"Probability of Survival of Third Class - {0:.2f}%\".format(100*probClass3))\n",
    "print(\"Probability of Survival of Males - {0:.2f}%\".format(100*probMale))\n",
    "print(\"Probability of Survival of Females - {0:.2f}%\".format(100*probFemale))\n",
    "print(\"-----------------\")\n",
    "print(\"Probability of Survival of First Class Males - {0:.2f}%\".format(100*probM1))\n",
    "print(\"Probability of Survival of Second Class Males - {0:.2f}%\".format(100*probM2))\n",
    "print(\"Probability of Survival of Third Class Males - {0:.2f}%\".format(100*probM3))\n",
    "print(\"Probability of Survival of First Class Females - {0:.2f}%\".format(100*probF1))\n",
    "print(\"Probability of Survival of Second Class Females - {0:.2f}%\".format(100*probF2))\n",
    "print(\"Probability of Survival of Third Class Females - {0:.2f}%\".format(100*probF3))"
   ]
  },
  {
   "cell_type": "markdown",
   "metadata": {},
   "source": [
    "**SOLUTION**  \n",
    "*Base Probability of Survival -* 39.28%\n",
    "\n",
    "   (i) Both first and second class had a higher rate of survival than the base survival probability. Third class, however, did not and had a lower rate of survival than the base rate of survival\n",
    "    \n",
    "   (ii) Females had a much greater probability of survival than the base survival probability, while males had a lower probability of survival.\n",
    "    \n",
    "   (iii) Within each passenger class, women were *far* more likely to survive compared to men.\n",
    "\n",
    "   (iv) Women in third class had a higher probability of survival compared with men in first class."
   ]
  },
  {
   "cell_type": "markdown",
   "metadata": {},
   "source": [
    "**Part E**: One might wonder how a passenger's age is related to the likelihood that they would survive the Titanic disaster. In addition to the \"male chivalry\" argument outlined above, you can perhaps imagine an addendum - \"women and children first!\" - as the cry to ring out across the decks. Or you might imagine the opposite - rather than \"class warfare\", it is simply healthy adults fighting to take lifeboat spots for themselves.\n",
    "\n",
    "To answer this question graphically, plot two density histograms on the same set of axes, showing the distribution of the ages of passengers who survived, and the distribution of the ages of passengers who did not. \n",
    "* Use the bin edges $[0,5,10,\\ldots,70,75,80]$ for both histograms.\n",
    "* To better distinguish between our populations, we will represent survivors with `navy` (as they were eventually rescued by ships) and those who passed away with `sandybrown`.\n",
    "* Plot both histograms on a single set of axes (there should be only one panel in the figure you create), but use Matplotlib/Pandas plotting functionality to make the faces of the histogram boxes somewhat transparent, so both histograms are visible.\n",
    "* Include a legend and label your axes.\n",
    "* Comment on the results. Does your figure suggest that some age ranges are more or less likely to have survived the disaster than other ages? Fully explain your reasoning and use your figure to justify your conclusions.\n",
    "* If you noticed some relationship between age and likelihood of survival, what is one possible explanation?"
   ]
  },
  {
   "cell_type": "code",
   "execution_count": 6,
   "metadata": {},
   "outputs": [
    {
     "data": {
      "image/png": "[encoded data removed]",
      "text/plain": [
       "<Figure size 576x576 with 1 Axes>"
      ]
     },
     "metadata": {
      "needs_background": "light"
     },
     "output_type": "display_data"
    }
   ],
   "source": [
    "my_bins = range(0,80,5)\n",
    "\n",
    "fig, ax = plt.subplots(figsize=(8,8))\n",
    "\n",
    "dfCleaned.loc[dfCleaned[\"Survived\"]== 1].hist(column=\"Age\", density=True, ax=ax, bins=my_bins, facecolor=\"navy\", alpha = 0.5, edgecolor=\"white\")\n",
    "dfCleaned.loc[dfCleaned[\"Survived\"]== 0].hist(column=\"Age\", density=True, ax=ax, bins=my_bins, facecolor=\"sandybrown\", alpha = 0.5, edgecolor=\"white\")\n",
    "\n",
    "# Add titles and labels \n",
    "ax.set_title(\"Distribution Of Age Of Titanic Passengers\", fontsize=20)\n",
    "ax.set_xlabel(\"Age\", fontsize=16)\n",
    "ax.set_ylabel(\"Density\", fontsize=16)\n",
    "\n",
    "# Make grid lighter and set behind data\n",
    "ax.grid(alpha=0.25)\n",
    "ax.set_axisbelow(True)\n",
    "ax.legend([\"Survived\", \"Passed Away\"]);"
   ]
  },
  {
   "cell_type": "markdown",
   "metadata": {},
   "source": [
    "**SOLUTION**  \n",
    "The data above suggests that ages 0-15, 30-40, 50-55, and 70-75 were more likely to pass away as compared to the rest of the age groups. This may be because the older passengers were willing to give their spots on the lifeboats to younger people, or perhaps because younger people could survive in the frigid waters longer than the older people since they are younger."
   ]
  },
  {
   "cell_type": "markdown",
   "metadata": {},
   "source": [
    "**Part F:** In Part E, we plotted two *density* histograms, showing the distributions of ages of passengers that survived or did not survive the Titanic disaster. Why would it be misleading for us to have plotted these as *frequency* histograms instead?"
   ]
  },
  {
   "cell_type": "markdown",
   "metadata": {},
   "source": [
    "**SOLUTION**  \n",
    "It would be misleading to plot these as frequency histograms instead since frequency histograms would show the number of people who died, not the likelyhood to survive as a density histogram will."
   ]
  },
  {
   "cell_type": "markdown",
   "metadata": {},
   "source": [
    "**Part G**: Do the data suggest class warfare, male chivalry, age bias, or some combination of these characteristics in the final hours aboard the Titanic?  Justify your conclusions based on the computations done above, or do any other analysis that you like, but be sure to clearly justify your conclusions."
   ]
  },
  {
   "cell_type": "markdown",
   "metadata": {},
   "source": [
    "**SOLUTION**  \n",
    "Yes, based on the computations done above, I believe that there was likely class warfare, male chivalry, and age bias going on in the final hours aboard the Titanic. \n",
    "\n",
    "If you look at the percentage of women who survived compared to men, you can see that male chivalry definitely occured since men had a 1/4 the probability of survival. \n",
    "\n",
    "You can also see that class warfare occured since 2/3 of first class passengers survived, while only 1/4 of the third class passengers survived.\n",
    "\n",
    "Finally I believe that age bias occured, since if you look at the histograms 15-30 year olds were less likely to have passed away, while more 30-40 year olds were more likely to pass away than survive. This leads to the belief that class warfare definetly occured."
   ]
  },
  {
   "cell_type": "markdown",
   "metadata": {},
   "source": [
    "[Back to top](#top)\n",
    "<a id='p2'></a>\n",
    "\n",
    "## (20 pts) Problem 2: Data (Box Plots and Outliers)\n",
    "***\n",
    "\n",
    "NOAA's Physical Sciences division (https://www.esrl.noaa.gov/psd) houses an enormous amount of weather data.  Load `BoulderPrecip.csv` from the course page for the last 120 years of monthly precipitation data from Boulder.  Let's take a look!"
   ]
  },
  {
   "cell_type": "code",
   "execution_count": 7,
   "metadata": {},
   "outputs": [
    {
     "data": {
      "text/html": [
       "<div>\n",
       "<style scoped>\n",
       "    .dataframe tbody tr th:only-of-type {\n",
       "        vertical-align: middle;\n",
       "    }\n",
       "\n",
       "    .dataframe tbody tr th {\n",
       "        vertical-align: top;\n",
       "    }\n",
       "\n",
       "    .dataframe thead th {\n",
       "        text-align: right;\n",
       "    }\n",
       "</style>\n",
       "<table border=\"1\" class=\"dataframe\">\n",
       "  <thead>\n",
       "    <tr style=\"text-align: right;\">\n",
       "      <th></th>\n",
       "      <th>Year</th>\n",
       "      <th>JAN</th>\n",
       "      <th>FEB</th>\n",
       "      <th>MAR</th>\n",
       "      <th>APR</th>\n",
       "      <th>MAY</th>\n",
       "      <th>JUN</th>\n",
       "      <th>JUL</th>\n",
       "      <th>AUG</th>\n",
       "      <th>SEP</th>\n",
       "      <th>OCT</th>\n",
       "      <th>NOV</th>\n",
       "      <th>DEC</th>\n",
       "      <th>YEAR TOTAL</th>\n",
       "    </tr>\n",
       "  </thead>\n",
       "  <tbody>\n",
       "    <tr>\n",
       "      <th>0</th>\n",
       "      <td>1900</td>\n",
       "      <td>0.40</td>\n",
       "      <td>1.06</td>\n",
       "      <td>0.75</td>\n",
       "      <td>9.18</td>\n",
       "      <td>1.84</td>\n",
       "      <td>0.49</td>\n",
       "      <td>0.48</td>\n",
       "      <td>0.22</td>\n",
       "      <td>1.54</td>\n",
       "      <td>0.13</td>\n",
       "      <td>0.19</td>\n",
       "      <td>0.61</td>\n",
       "      <td>16.89</td>\n",
       "    </tr>\n",
       "    <tr>\n",
       "      <th>1</th>\n",
       "      <td>1901</td>\n",
       "      <td>0.53</td>\n",
       "      <td>0.30</td>\n",
       "      <td>1.74</td>\n",
       "      <td>3.51</td>\n",
       "      <td>1.62</td>\n",
       "      <td>1.76</td>\n",
       "      <td>0.46</td>\n",
       "      <td>1.69</td>\n",
       "      <td>0.16</td>\n",
       "      <td>0.65</td>\n",
       "      <td>Tr</td>\n",
       "      <td>1.43</td>\n",
       "      <td>13.85</td>\n",
       "    </tr>\n",
       "    <tr>\n",
       "      <th>2</th>\n",
       "      <td>1902</td>\n",
       "      <td>0.37</td>\n",
       "      <td>0.48</td>\n",
       "      <td>1.48</td>\n",
       "      <td>1.01</td>\n",
       "      <td>2.32</td>\n",
       "      <td>1.46</td>\n",
       "      <td>1.26</td>\n",
       "      <td>0.53</td>\n",
       "      <td>5.46</td>\n",
       "      <td>1.44</td>\n",
       "      <td>1.29</td>\n",
       "      <td>1.34</td>\n",
       "      <td>18.44</td>\n",
       "    </tr>\n",
       "    <tr>\n",
       "      <th>3</th>\n",
       "      <td>1903</td>\n",
       "      <td>0.08</td>\n",
       "      <td>1.52</td>\n",
       "      <td>1.45</td>\n",
       "      <td>2.31</td>\n",
       "      <td>2.02</td>\n",
       "      <td>1.87</td>\n",
       "      <td>0.95</td>\n",
       "      <td>1.46</td>\n",
       "      <td>1.31</td>\n",
       "      <td>3.43</td>\n",
       "      <td>0.15</td>\n",
       "      <td>0.16</td>\n",
       "      <td>16.71</td>\n",
       "    </tr>\n",
       "    <tr>\n",
       "      <th>4</th>\n",
       "      <td>1904</td>\n",
       "      <td>0.09</td>\n",
       "      <td>0.31</td>\n",
       "      <td>2.37</td>\n",
       "      <td>1.45</td>\n",
       "      <td>5.35</td>\n",
       "      <td>2.72</td>\n",
       "      <td>1.05</td>\n",
       "      <td>1.00</td>\n",
       "      <td>1.60</td>\n",
       "      <td>1.06</td>\n",
       "      <td>0.08</td>\n",
       "      <td>0.70</td>\n",
       "      <td>17.78</td>\n",
       "    </tr>\n",
       "  </tbody>\n",
       "</table>\n",
       "</div>"
      ],
      "text/plain": [
       "   Year   JAN   FEB   MAR   APR   MAY   JUN   JUL   AUG   SEP   OCT   NOV  \\\n",
       "0  1900  0.40  1.06  0.75  9.18  1.84  0.49  0.48  0.22  1.54  0.13  0.19   \n",
       "1  1901  0.53  0.30  1.74  3.51  1.62  1.76  0.46  1.69  0.16  0.65    Tr   \n",
       "2  1902  0.37  0.48  1.48  1.01  2.32  1.46  1.26  0.53  5.46  1.44  1.29   \n",
       "3  1903  0.08  1.52  1.45  2.31  2.02  1.87  0.95  1.46  1.31  3.43  0.15   \n",
       "4  1904  0.09  0.31  2.37  1.45  5.35  2.72  1.05  1.00  1.60  1.06  0.08   \n",
       "\n",
       "    DEC  YEAR TOTAL  \n",
       "0  0.61       16.89  \n",
       "1  1.43       13.85  \n",
       "2  1.34       18.44  \n",
       "3  0.16       16.71  \n",
       "4  0.70       17.78  "
      ]
     },
     "execution_count": 7,
     "metadata": {},
     "output_type": "execute_result"
    }
   ],
   "source": [
    "dfPrecip = pd.read_csv('../Data/boulder_precip_12021.csv')\n",
    "dfPrecip.head()\n"
   ]
  },
  {
   "cell_type": "markdown",
   "metadata": {},
   "source": [
    "**Part A:** SCRUBBING!  Our data set is going to be tough to use for a few reasons.\n",
    "\n",
    "1) When the amount of precipitation was nonzero but too small to be recorded, this data set recorded `tr`.  Replace these with zeroes.\n",
    "\n",
    "2) 2021 isn't over yet!  We have one row at the bottom that isn't fully complete and blank values are filling the months that haven't happened yet.  This can wreak havoc on some of our methods!  **Drop** the 2021 data entirely.\n",
    "\n",
    "3) You may have some object typing issues relating to columns that contained both \"Tr\"/\"NA\" and numeric values.  Ensure that Python is treating all of your data as numeric! (see `df.dtypes`)"
   ]
  },
  {
   "cell_type": "code",
   "execution_count": 8,
   "metadata": {},
   "outputs": [],
   "source": [
    "#Your code here\n",
    "# 1 - \n",
    "dfPrecip = dfPrecip.replace(\"Tr\", 0)\n",
    "\n",
    "#2 - \n",
    "dfPrecip = dfPrecip.drop(121)\n",
    "\n",
    "#3 - \n",
    "#Remove Asterisks\n",
    "dfPrecip = dfPrecip.replace(\"\\*\",\"\",regex=True)\n",
    "#Set datatype to floats\n",
    "dfPrecip = dfPrecip.astype(float)"
   ]
  },
  {
   "cell_type": "markdown",
   "metadata": {},
   "source": [
    "**Part B:** Generate a series of 12 box plots with month as the x axis and precipitation on the y-axis."
   ]
  },
  {
   "cell_type": "code",
   "execution_count": 9,
   "metadata": {},
   "outputs": [
    {
     "data": {
      "image/png": "[encoded data removed]",
      "text/plain": [
       "<Figure size 1152x576 with 1 Axes>"
      ]
     },
     "metadata": {
      "needs_background": "light"
     },
     "output_type": "display_data"
    }
   ],
   "source": [
    "#Your code here\n",
    "fig, ax = plt.subplots(figsize=(16,8))\n",
    "\n",
    "bp = dfPrecip.boxplot(column=[\"JAN\",\"FEB\",\"MAR\",\"APR\",\"MAY\",\"JUN\",\"JUL\",\"AUG\",\"SEP\",\"OCT\",\"NOV\",\"DEC\"], ax=ax, widths=[.25,.25,.25,.25,.25,.25,.25,.25,.25,.25,.25,.25],  return_type='dict')\n",
    "\n",
    "# Change properties of boxes \n",
    "for box in bp['boxes']:\n",
    "    box.set(color='steelblue', linewidth=2)\n",
    "    \n",
    "# Change properties of whiskers \n",
    "for whisker in bp['whiskers']:\n",
    "    whisker.set(color='gray', linewidth=2)\n",
    "    \n",
    "# Change properties of caps \n",
    "for cap in bp['caps']:\n",
    "    cap.set(color='gray', linewidth=2)\n",
    "    \n",
    "# Change properties of median \n",
    "for cap in bp['medians']:\n",
    "    cap.set(color='green', linewidth=2, alpha=0.5)\n",
    "    \n",
    "# Change properties of fliers (outliers) \n",
    "for flier in bp['fliers']:\n",
    "    flier.set(markerfacecolor='steelblue', linewidth=2, marker='s', markersize=6, alpha=0.5)\n",
    "    \n",
    "ax.set_title('Precipitation By Month', fontsize=18)\n",
    "ax.set_ylabel(\"Amount Of Precipitation (Inches)\", fontsize=16)\n",
    "\n",
    "# Make grid-lines lighter\n",
    "ax.grid(alpha=0.25)"
   ]
  },
  {
   "cell_type": "markdown",
   "metadata": {},
   "source": [
    "\n",
    "**Part C:** Spring is the wet season in Boulder.   But what is Spring?\n",
    "\n",
    "Atmospheric scientists love to group months seasonally, breaking the year into a Winter season including December, January, February; a Spring including March, April, and May; and so forth.\n",
    "\n",
    "The solar year, however, says that Spring runs from near the end of March until near the end of June: let's round at the nearest month and say that it includes the months of April, May and June.\n",
    "\n",
    "Generate a box plot with precipitation on the y-axis and the two possible monthly 'Spring' groupings (March-May versus April-June) as the x-axis."
   ]
  },
  {
   "cell_type": "code",
   "execution_count": 10,
   "metadata": {},
   "outputs": [
    {
     "data": {
      "image/png": "[encoded data removed]",
      "text/plain": [
       "<Figure size 1152x576 with 1 Axes>"
      ]
     },
     "metadata": {
      "needs_background": "light"
     },
     "output_type": "display_data"
    }
   ],
   "source": [
    "#Your code here\n",
    "\n",
    "dfAtmospheric = pd.DataFrame()\n",
    "dfAtmospheric = pd.concat([dfPrecip['MAR'], dfPrecip['APR'], dfPrecip['MAY']])\n",
    "\n",
    "dfSolar = pd.DataFrame()\n",
    "dfSolar = pd.concat([dfPrecip['APR'], dfPrecip['MAY'], dfPrecip['JUN']])\n",
    "\n",
    "dfSpring = pd.concat([dfAtmospheric, dfSolar], axis=1)\n",
    "dfSpring.columns = ['Atmospheric', 'Solar']\n",
    "\n",
    "\n",
    "fig, ax = plt.subplots(figsize=(16,8))\n",
    "\n",
    "bp = dfSpring.boxplot(ax=ax, widths=[.25, .25], return_type='dict');\n",
    "\n",
    "# Change properties of boxes \n",
    "for box in bp['boxes']:\n",
    "    box.set(color='steelblue', linewidth=2)\n",
    "    \n",
    "# Change properties of whiskers \n",
    "for whisker in bp['whiskers']:\n",
    "    whisker.set(color='gray', linewidth=2)\n",
    "    \n",
    "# Change properties of caps \n",
    "for cap in bp['caps']:\n",
    "    cap.set(color='gray', linewidth=2)\n",
    "    \n",
    "# Change properties of median \n",
    "for cap in bp['medians']:\n",
    "    cap.set(color='green', linewidth=2, alpha=0.5)\n",
    "    \n",
    "# Change properties of fliers (outliers) \n",
    "for flier in bp['fliers']:\n",
    "    flier.set(markerfacecolor='steelblue', linewidth=2, marker='s', markersize=6, alpha=0.5)\n",
    "    \n",
    "ax.set_title('Precipitation By Month', fontsize=18)\n",
    "ax.set_ylabel(\"Amount Of Precipitation (Inches)\", fontsize=16)\n",
    "\n",
    "# Make grid-lines lighter\n",
    "ax.grid(alpha=0.25)\n"
   ]
  },
  {
   "cell_type": "markdown",
   "metadata": {},
   "source": [
    "**Part D:** These might look pretty similar!  Highlight and comment on any differences by calculating the mean, standard deviation, and a Tukey five number summary of each classification of Spring.  Is there a reason here to favor one grouping over the other?"
   ]
  },
  {
   "cell_type": "code",
   "execution_count": 11,
   "metadata": {},
   "outputs": [
    {
     "name": "stdout",
     "output_type": "stream",
     "text": [
      "---Atmospheric---\n",
      "mean    2.508623\n",
      "std     1.675328\n",
      "min     0.000000\n",
      "25%     1.365000\n",
      "50%     2.110000\n",
      "75%     3.355000\n",
      "max     9.590000\n",
      "\n",
      "------SOLAR------\n",
      "mean    2.560331\n",
      "std     1.702381\n",
      "min     0.000000\n",
      "25%     1.355000\n",
      "50%     2.100000\n",
      "75%     3.465000\n",
      "max     9.590000\n"
     ]
    }
   ],
   "source": [
    "#Code here\n",
    "print(\"---Atmospheric---\")\n",
    "print(dfAtmospheric.describe().loc[['mean','std','min','25%','50%','75%','max']].to_string())\n",
    "print(\"\\n------SOLAR------\")\n",
    "print(dfSolar.describe().loc[['mean','std','min','25%','50%','75%','max']].to_string())"
   ]
  },
  {
   "cell_type": "markdown",
   "metadata": {},
   "source": [
    "**SOLUTION**\n",
    "\n",
    "Not really, almost all of the datapoints are within 0.05 inches of each other. This means that either of the \"Springs\" could be used for analysis."
   ]
  },
  {
   "cell_type": "markdown",
   "metadata": {},
   "source": [
    "**Part E:** Create a density histogram of the September precipitation.  Classify and describe this histogram, including discussion of any skewness, multimodality, or outliers.  Find the data point associated with September, 2013, and recreate your histogram with that value in a different color or otherwise clearly marked."
   ]
  },
  {
   "cell_type": "code",
   "execution_count": 12,
   "metadata": {},
   "outputs": [
    {
     "data": {
      "image/png": "[encoded data removed]",
      "text/plain": [
       "<Figure size 1080x576 with 1 Axes>"
      ]
     },
     "metadata": {
      "needs_background": "light"
     },
     "output_type": "display_data"
    }
   ],
   "source": [
    "# September box plot code here\n",
    "my_bins = range(0,20,1)\n",
    "\n",
    "fig, ax = plt.subplots(figsize=(15,8))\n",
    "\n",
    "dfPrecip.hist(column=\"SEP\", density=True, ax=ax, bins=my_bins, facecolor=\"deepskyblue\", edgecolor=\"white\")\n",
    "ax.axvline(x=18.16, color='magenta', linestyle='dashed', linewidth=2,  label='Outlier')\n",
    "\n",
    "# Add titles and labels \n",
    "ax.set_title(\"Distribution Of Precipitation In September\", fontsize=20)\n",
    "ax.set_xlabel(\"Amount of Precipitation (Inches)\", fontsize=16)\n",
    "ax.set_ylabel(\"Density\", fontsize=16)\n",
    "\n",
    "# Make grid lighter and set behind data\n",
    "ax.legend(loc='center right')\n",
    "ax.grid(alpha=0.25)\n",
    "ax.set_axisbelow(True)\n"
   ]
  },
  {
   "cell_type": "markdown",
   "metadata": {},
   "source": [
    "**SOLUTION**\n",
    "\n",
    "This histogram shows the distribution of precipition in September. It is unimodal, right skewed, and contains 1 outlier at x = 18.16."
   ]
  },
  {
   "cell_type": "markdown",
   "metadata": {},
   "source": [
    "**Part F:** That one data point in September 2013 is pretty out there!  Compute the mean and standard deviation of the September precipitation values, then compute them again while excluding the 2013 observation.  How much did each change?\n",
    "\n",
    "If someone were to ask you about the average weather in September, what would you respond?\n",
    "\n"
   ]
  },
  {
   "cell_type": "code",
   "execution_count": 13,
   "metadata": {},
   "outputs": [
    {
     "name": "stdout",
     "output_type": "stream",
     "text": [
      "-----With Outlier-----\n",
      "Mean: 1.69 Standard Deviation: 1.98\n",
      "\n",
      "---Without Outlier---\n",
      "Mean: 1.55 Standard Deviation: 1.28\n"
     ]
    }
   ],
   "source": [
    "# September code here\n",
    "print(\"-----With Outlier-----\")\n",
    "print(\"Mean: {:.2f} Standard Deviation: {:.2f}\".format(dfPrecip[\"SEP\"].mean(), dfPrecip[\"SEP\"].std()))\n",
    "\n",
    "\n",
    "print(\"\\n---Without Outlier---\")\n",
    "print(\"Mean: {:.2f} Standard Deviation: {:.2f}\".format(dfPrecip[\"SEP\"].loc[dfPrecip[\"SEP\"]<10].mean(), dfPrecip[\"SEP\"].loc[dfPrecip[\"SEP\"]<10].std()))\n"
   ]
  },
  {
   "cell_type": "markdown",
   "metadata": {},
   "source": [
    "**SOLUTION**\n",
    "\n",
    "The average didn't change much, but the standard deviation changed a fair amount.\n",
    "\n",
    "If someone asked me what the average weather in September is, I would reply 1.55 inches. In over 100 years, we've never had any amount of precipitation even close to the amount that we got in September 2013. Therefore I'd say that it's VERY much an outlier, and can \"ignore\" it when reporting statistics."
   ]
  },
  {
   "cell_type": "markdown",
   "metadata": {},
   "source": [
    "[Back to top](#top)"
   ]
  }
 ],
 "metadata": {
  "kernelspec": {
   "display_name": "Python 3",
   "language": "python",
   "name": "python3"
  },
  "language_info": {
   "codemirror_mode": {
    "name": "ipython",
    "version": 3
   },
   "file_extension": ".py",
   "mimetype": "text/x-python",
   "name": "python",
   "nbconvert_exporter": "python",
   "pygments_lexer": "ipython3",
   "version": "3.8.5"
  }
 },
 "nbformat": 4,
 "nbformat_minor": 2
}
