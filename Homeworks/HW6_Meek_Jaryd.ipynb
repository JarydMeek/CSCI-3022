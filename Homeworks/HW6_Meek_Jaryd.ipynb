{
 "cells": [
  {
   "cell_type": "markdown",
   "metadata": {},
   "source": [
    "<a id='top'></a>\n",
    "\n",
    "# CSCI3022 S21\n",
    "# Homework 6: Testing\n",
    "***\n",
    "\n",
    "**Name**: Jaryd Meek\n",
    "\n",
    "***\n",
    "\n",
    "This assignment is due on Canvas by **MIDNIGHT on Friday, April 15**. Your solutions to theoretical questions should be done in Markdown directly below the associated question.  Your solutions to computational questions should include any specified Python code and results as well as written commentary on your conclusions.  Remember that you are encouraged to discuss the problems with your classmates, but **you must write all code and solutions on your own**.\n",
    "\n",
    "**NOTES**: \n",
    "\n",
    "- Any relevant data sets should be available on Canvas. To make life easier on the graders if they need to run your code, do not change the relative path names here. Instead, move the files around on your computer.\n",
    "- If you're not familiar with typesetting math directly into Markdown then by all means, do your work on paper first and then typeset it later.  Here is a [reference guide](https://math.meta.stackexchange.com/questions/5020/mathjax-basic-tutorial-and-quick-reference) linked on Canvas on writing math in Markdown. **All** of your written commentary, justifications and mathematical work should be in Markdown.  I also recommend the [wikibook](https://en.wikibooks.org/wiki/LaTeX) for LaTex.\n",
    "- Because you can technically evaluate notebook cells is a non-linear order, it's a good idea to do **Kernel $\\rightarrow$ Restart & Run All** as a check before submitting your solutions.  That way if we need to run your code you will know that it will work as expected. \n",
    "- It is **bad form** to make your reader interpret numerical output from your code.  If a question asks you to compute some value from the data you should show your code output **AND** write a summary of the results in Markdown directly below your code. \n",
    "- 45 points of this assignment are in problems.  The remaining 5 are for neatness, style, and overall exposition of both code and text.\n",
    "- This probably goes without saying, but... For any question that asks you to calculate something, you **must show all work and justify your answers to receive credit**. Sparse or nonexistent work will receive sparse or nonexistent credit. \n",
    "\n",
    "---\n",
    "**Shortcuts:**  [Problem 1](#p1) | [Problem 2](#p2) | [Problem 3](#p3) |\n",
    "---"
   ]
  },
  {
   "cell_type": "code",
   "execution_count": 1,
   "metadata": {},
   "outputs": [],
   "source": [
    "import pandas as pd\n",
    "import numpy as np\n",
    "import matplotlib.pylab as plt\n",
    "import scipy.stats as stats\n",
    "%matplotlib inline"
   ]
  },
  {
   "cell_type": "markdown",
   "metadata": {},
   "source": [
    "<br>\n",
    "\n",
    "---\n",
    "<a/ id='p1'></a>\n",
    "[Back to top](#top)\n",
    "## [25 points] Problem 1 - Mins or Maxs?\n",
    "\n",
    "It's a common data science and numeric problem to need to find **best** estimators, which often represent maximums of \"value\" functions or minimums of \"loss\" functions.  In this problem we explore the way that minimums and maximums interact with one another.\n",
    "\n",
    "Consider rolling some fair, independent, 10-sided dice, with faces [1,2,3,...,10].\n",
    "\n",
    "#### Part a) Maximums\n",
    "\n",
    "Suppose we roll 2 such 10-sided die.  Denote $M:=$ the maximum of the two rolls (we will refer to this as the roller having \"advantage\" when trying to achieve a high roll in a die-rolling game).\n",
    "\n",
    "i) Use markdown to express the exact pdf of $M$.\n",
    "\n",
    "ii) Print the expected value of $M$.\n",
    "\n",
    "iii) Print the variance of $M$.\n"
   ]
  },
  {
   "cell_type": "markdown",
   "metadata": {},
   "source": [
    "**SOLUTION**<br>\n",
    "i)\n",
    "$$\n",
    "f(x) = \\begin{cases}\n",
    "        Roll & Probability\\\\\n",
    "         1 & 0.01 \\\\\n",
    "         2 & 0.03 \\\\\n",
    "         3 & 0.05 \\\\\n",
    "         4 & 0.07 \\\\\n",
    "         5 & 0.09 \\\\\n",
    "         6 & 0.11 \\\\\n",
    "         7 & 0.13 \\\\\n",
    "         8 & 0.15 \\\\\n",
    "         9 & 0.17 \\\\\n",
    "         10 & 0.19 \\\\\n",
    "       \\end{cases}\n",
    "$$"
   ]
  },
  {
   "cell_type": "code",
   "execution_count": 2,
   "metadata": {},
   "outputs": [
    {
     "name": "stdout",
     "output_type": "stream",
     "text": [
      "Expected Value - 7.15\n",
      "Variance - 5.527500000000001\n"
     ]
    }
   ],
   "source": [
    "rolls = [[1,0.01],[2,0.03],[3,0.05],[4,0.07],[5,0.09],[6,0.11],[7,0.13],[8,0.15],[9,0.17],[10,0.19]]\n",
    "EV = 0\n",
    "Var = 0\n",
    "for x in rolls:\n",
    "    EV += (x[0]*x[1])\n",
    "for x in rolls:\n",
    "    Var += ((x[0]-EV)**2)*x[1]\n",
    "print(\"Expected Value - \" + str(EV))\n",
    "print(\"Variance - \" + str(Var))"
   ]
  },
  {
   "cell_type": "markdown",
   "metadata": {},
   "source": [
    "\n",
    "#### Part b) Min-Max\n",
    "\n",
    "In the rest of this problem, we'll explore tacking **both** a minimum and a maximum.  In particular, we define the experiment of *min-max*, in which we compute the minimum of two maximum rolls.  Formally: we roll 2 dice and record their maximum $M_1$, then roll 2 more dice and record their maximum $M_2$.  Finally, we denote $mM:=$ the mimimun of the two $M_1$ and $M_2$ rolls.  We may refer to this as \"disadvantage-of-advantage.\"\n",
    "\n",
    "Set up a function to simulate $n=10^4$ draws from the $mM$ random variable.  Then, *simulate* and/or *bootstrap* with your function to answer the following:\n",
    "\n",
    "i) What is the pdf of $mM$?  Plot it as a histogram.\n",
    "\n",
    "ii) What is the expected value of $mM$?\n",
    "\n",
    "iii) What is the probability that an $mM$ random variable returns a value greater then 5? Construct both a point estimate and a 90\\% confidence interval for this value.\n",
    "\n",
    "For the bootstrapped CI in iii, it is recommended you group your $10^4$ trials into 100 groups of 100 trials in order to construct a distribution of sample probabilities."
   ]
  },
  {
   "cell_type": "code",
   "execution_count": 3,
   "metadata": {},
   "outputs": [
    {
     "data": {
      "image/png": "[encoded data removed]",
      "text/plain": [
       "<Figure size 432x288 with 1 Axes>"
      ]
     },
     "metadata": {
      "needs_background": "light"
     },
     "output_type": "display_data"
    },
    {
     "name": "stdout",
     "output_type": "stream",
     "text": [
      "Expected Value - 5.8259\n",
      "Point Estimate - 0.56\n",
      "Confidence interval - [0.48 0.64]\n"
     ]
    }
   ],
   "source": [
    "def simDiceMinMax(numRolls):\n",
    "    allRolls = []\n",
    "    for x in range(numRolls):\n",
    "        roll1 = np.random.randint(1,11)\n",
    "        roll2 = np.random.randint(1,11)\n",
    "        roll3 = np.random.randint(1,11)\n",
    "        roll4 = np.random.randint(1,11)\n",
    "        allRolls.append(min([max([roll1,roll2]),max([roll3,roll4])]))\n",
    "    #make pretty pretty histogram\n",
    "    plt.hist(allRolls,bins=(np.arange(1,12)-0.5), facecolor='blue', alpha=0.5, density=True)\n",
    "    plt.xticks(range(1,11))\n",
    "    plt.xlim([0, 11])\n",
    "    plt.show()\n",
    "    #Calculate EV\n",
    "    print(\"Expected Value - \" + str(np.mean(allRolls)))\n",
    "    #Point Estimate -\n",
    "    above5 = [x for x in allRolls if x > 5]\n",
    "    print(\"Point Estimate - \" + str(len(above5)/numRolls))\n",
    "simDiceMinMax(10000)\n",
    "\n",
    "def bootstrappedMinMax(num):\n",
    "    storage = []\n",
    "    for x in range(num):\n",
    "        allRolls = []\n",
    "        for y in range(num):\n",
    "            roll1 = np.random.randint(1,11)\n",
    "            roll2 = np.random.randint(1,11)\n",
    "            roll3 = np.random.randint(1,11)\n",
    "            roll4 = np.random.randint(1,11)\n",
    "            allRolls.append(min([max([roll1,roll2]),max([roll3,roll4])]))\n",
    "        above5 = [x for x in allRolls if x > 5]\n",
    "        storage.append(len(above5)/num)\n",
    "        \n",
    "    print(\"Confidence interval - \" + str(np.percentile(storage, [5,95])))\n",
    "            \n",
    "bootstrappedMinMax(100)"
   ]
  },
  {
   "cell_type": "markdown",
   "metadata": {},
   "source": [
    "\n",
    "#### Part c) Max-min\n",
    "\n",
    "Now, define the experiment of *max-min*, in which we compute the maximum of two minumum rolls.  Formally: we roll 2 dice and record their minimum $m_1$, then roll 2 more dice and record their minimum $m_2$.  Finally, we denote $Mm:=$ the maximum of the two $m_1$ and $m_2$ rolls.  We may refer to this as \"advantage-of-disadvantage.\"\n",
    "\n",
    "Set up a function to simulate $n$ draws from the $Mm$ random variable.  Then, *simulate* and/or *bootstrap* with your function to answer the following:\n",
    "\n",
    "i) What is the pdf of $Mm$?  Plot it as a histogram.\n",
    "\n",
    "ii) What is the expected value of $Mm$?\n",
    "\n",
    "iii) What is the probability that an $Mm$ random variable returns a value greater then 5?   Construct both a point estimate and a 90\\% confidence interval for this value.\n",
    "\n",
    "\n"
   ]
  },
  {
   "cell_type": "code",
   "execution_count": 4,
   "metadata": {},
   "outputs": [
    {
     "data": {
      "image/png": "[encoded data removed]",
      "text/plain": [
       "<Figure size 432x288 with 1 Axes>"
      ]
     },
     "metadata": {
      "needs_background": "light"
     },
     "output_type": "display_data"
    },
    {
     "name": "stdout",
     "output_type": "stream",
     "text": [
      "Expected Value - 5.1736\n",
      "Point Estimate - 0.4379\n",
      "Confidence interval - [0.3695 0.52  ]\n"
     ]
    }
   ],
   "source": [
    "def simDiceMaxMin(numRolls):\n",
    "    allRolls = []\n",
    "    for x in range(numRolls):\n",
    "        roll1 = np.random.randint(1,11)\n",
    "        roll2 = np.random.randint(1,11)\n",
    "        roll3 = np.random.randint(1,11)\n",
    "        roll4 = np.random.randint(1,11)\n",
    "        allRolls.append(max([min([roll1,roll2]),min([roll3,roll4])]))\n",
    "    #make pretty pretty histogram\n",
    "    plt.hist(allRolls,bins=(np.arange(1,12)-0.5), facecolor='blue', alpha=0.5, density=True)\n",
    "    plt.xticks(range(1,11))\n",
    "    plt.xlim([0, 11])\n",
    "    plt.show()\n",
    "    #Calculate EV\n",
    "    print(\"Expected Value - \" + str(np.mean(allRolls)))\n",
    "    #Point Estimate -\n",
    "    above5 = [x for x in allRolls if x > 5]\n",
    "    print(\"Point Estimate - \" + str(len(above5)/numRolls))\n",
    "    \n",
    "simDiceMaxMin(10000)\n",
    "\n",
    "def bootstrappedMaxMin(num):\n",
    "    storage = []\n",
    "    for x in range(num):\n",
    "        allRolls = []\n",
    "        for y in range(num):\n",
    "            roll1 = np.random.randint(1,11)\n",
    "            roll2 = np.random.randint(1,11)\n",
    "            roll3 = np.random.randint(1,11)\n",
    "            roll4 = np.random.randint(1,11)\n",
    "            allRolls.append(max([min([roll1,roll2]),min([roll3,roll4])]))\n",
    "        above5 = [x for x in allRolls if x > 5]\n",
    "        storage.append(len(above5)/num)\n",
    "        \n",
    "    print(\"Confidence interval - \" + str(np.percentile(storage, [5,95])))\n",
    "bootstrappedMaxMin(100)"
   ]
  },
  {
   "cell_type": "markdown",
   "metadata": {},
   "source": [
    "\n",
    "#### Part d) Discussion\n",
    "\n",
    "Taking a look at your work in parts c or d, use full English sentences to answer the following:\n",
    "\n",
    "i) In general, which returns a higher value: the maximum of minimums or the minimum of maximums?\n",
    "\n",
    "ii) Is there ever a case to prefer a min-of-max rather than a max-of-mins?  Suppose the goal is to return \"a 2 or higher\", which do we prefer?  Is this a different best choice from the goal of \"need to return exactly a 10?\"\n",
    "\n",
    "iii) What happens if the number of rolls in the selection increases?  For example, if I roll 100 dice in total, and take as my random variable the minimum of 10 sets of 10 maximums, how should this differ from the distribution in part b)?  You may simulate to verify your result, but should try to explain in plain English either way?"
   ]
  },
  {
   "cell_type": "markdown",
   "metadata": {},
   "source": [
    "**SOLUTION -**\n",
    "\n",
    "i) The minimum of maximums generally returns a higher value.\n",
    "\n",
    "ii) \n",
    " - A case where you would prefer the min-of-max over max-of-min would be if your goal is to get a low number. If your goal is to get a 1, you have a much better chance of getting it with min-of-max.\n",
    " - If the goal is to return a 2 or higher, you're better off with a max-of-min, since to get a 1 with max-of-min, only 2 of the 4 dice have to be a 1, while with min-of-max, at least 3 dice have to be a 1, making it less likely to roll a 1, and more likely to roll a number greater than 1. Therefore, it is more likely to get a value greater than 2 with min-of-max.\n",
    " - If you are shooting for exactly a 10, you are also better with min-of-max as you only need 2 of the 4 dice rolls to be a 10, instead of at least 3/4 for max-of-min.\n",
    " \n",
    "iii) It would make the distribution skew more extreme. Min-of-maxes creates a slightly left skewed curve for part b, but if you expanded the group size, there would be more rolls to pick from leading to a higher probability of either higher or lower numbers (depending on min-of-max or max-of-min), leading the distribution to be skewed even farther."
   ]
  },
  {
   "cell_type": "markdown",
   "metadata": {},
   "source": [
    "<br>\n",
    "\n",
    "---\n",
    "<a/ id='p2'></a>\n",
    "[Back to top](#top)\n",
    "## [10 points] Problem 2 - A (very) small sample hypothesis test\n",
    "\n",
    "We're counting birds outside our work-from-home offices, and recording $X$, the number that pass between 2p-3p.  Let $X \\sim \\mathcal{P}(\\lambda)$. Suppose that we want to test the null hypothesis that $\\lambda = 15$, and the alternative hypothesis is that $\\lambda > 15$. Since we're just starting today, our sample size for this test is equal to 1.\n",
    "\t\n",
    "#### Part a)\n",
    " \n",
    "Naturally for a hypothesis test we might come up with a rejection region. Here, we will reject the null hypothesis if $X$ is greater than some number $c$ that represents \"too many birds\" for a process of $\\lambda = 15$. What value should we choose for $c$ such that the probability of a type I error is equal to $0.05$?\n",
    "\n",
    "(NB: for a discrete R.V., we more precisely ensure that P(Type I error) *is not more than* $0.05$)\n"
   ]
  },
  {
   "cell_type": "code",
   "execution_count": 5,
   "metadata": {},
   "outputs": [
    {
     "name": "stdout",
     "output_type": "stream",
     "text": [
      "22.0\n"
     ]
    }
   ],
   "source": [
    "c = stats.poisson.ppf(0.95, 15)\n",
    "print(c)"
   ]
  },
  {
   "cell_type": "markdown",
   "metadata": {},
   "source": [
    "22 is the value that we should choose for $c$ such that the probability of a type I error is equal to 0.05"
   ]
  },
  {
   "cell_type": "markdown",
   "metadata": {},
   "source": [
    "\n",
    "#### Part b)\n",
    "\n",
    "If in reality, $\\lambda$ is *actually* equal to 20, what is the probability of making a type 2 error using the cut-off point from (a)?\n",
    "    \n",
    "    "
   ]
  },
  {
   "cell_type": "code",
   "execution_count": 6,
   "metadata": {},
   "outputs": [
    {
     "name": "stdout",
     "output_type": "stream",
     "text": [
      "Probability of making a type 2 error if lambda = 20 is 0.7206113431260256\n"
     ]
    }
   ],
   "source": [
    "print(\"Probability of making a type 2 error if lambda = 20 is \" + str(stats.poisson.cdf(22, 20)))"
   ]
  },
  {
   "cell_type": "markdown",
   "metadata": {},
   "source": [
    "<br>\n",
    "\n",
    "---\n",
    "<a/ id='p3'></a>\n",
    "[Back to top](#top)\n",
    "## [10 points] Problem 3 - The power!\n",
    "\n",
    "\n",
    "Let $Y$ be the number of heads in 100 tosses of a possibly biased coin, with probability of heads on any toss $p$. Similar to the Belgian Euro example, we hope to *test* whether the coin is biased **toward heads**.\n",
    "\n",
    "#### Part a)\n",
    "\n",
    "State the null and alternative hypotheses.\n"
   ]
  },
  {
   "cell_type": "markdown",
   "metadata": {},
   "source": [
    "**SOLUTION -**\n",
    "\n",
    "Null Hypothesis - The coin is fair.<br>\n",
    "Alternative Hypothesis - The coin is biased towards heads."
   ]
  },
  {
   "cell_type": "markdown",
   "metadata": {},
   "source": [
    "\n",
    "#### Part b)\n",
    "Suppose we define the rejection region to be $Y > 58$. \n",
    "\n",
    "Calculate the rate of type I error of this test. (For this, and all remaining parts, calculate probabilities **exactly**, i.e., without using a normal approximation)\n"
   ]
  },
  {
   "cell_type": "code",
   "execution_count": 7,
   "metadata": {},
   "outputs": [
    {
     "name": "stdout",
     "output_type": "stream",
     "text": [
      "Type I error - 0.04431304005703374\n"
     ]
    }
   ],
   "source": [
    "print(\"Type I error - \" + str(1 - stats.binom.cdf(58, 100, 0.5)))"
   ]
  },
  {
   "cell_type": "markdown",
   "metadata": {},
   "source": [
    "\n",
    "#### Part c)\n",
    "\n",
    "Simulate a single dataset (or appropriate summary of a dataset) under the null hypothesis, and apply your test from part (a). State your conclusion. Is your conclusion in error? If so, which type?\n",
    "\n",
    "Repeat this process 1000 times in total and verify that the error rate appears consistent with your calculations in part b).\n"
   ]
  },
  {
   "cell_type": "code",
   "execution_count": 8,
   "metadata": {},
   "outputs": [
    {
     "name": "stdout",
     "output_type": "stream",
     "text": [
      "Average error rate of simulation - 0.051\n"
     ]
    }
   ],
   "source": [
    "def simulateFlips(numSims,numFlips):\n",
    "    err = []\n",
    "    for x in range(numSims):\n",
    "        allFlips = []\n",
    "        for x in range(numFlips):\n",
    "            allFlips.append(np.random.randint(0,2))\n",
    "        if np.sum(allFlips) > 58:\n",
    "            err.append(1)\n",
    "        else:\n",
    "            err.append(0)\n",
    "    return (np.sum(allFlips)/numSims)\n",
    "print(\"Average error rate of simulation - \" + str(simulateFlips(1000,100)))"
   ]
  },
  {
   "cell_type": "markdown",
   "metadata": {},
   "source": [
    "\n",
    "#### Part d)\n",
    "Consider that the *reality* of a biased coin could take on any number of possible different values of actual bias $p$.  Construct a grid/list of possible values $p$ for the alternative hypothesis $p_{alt}=[0.51,0.52,0.53, \\dots .99, 1.00]$.\n",
    "\n",
    "For each value of $p$ in this list, calculate the power of the test from part $a$.  Return exact values rather than simulated/estimated probabilities.\n",
    "\n",
    "(Recall: statistical **power** is the probability of rejecting the null hypothesis while the alternative hypothesis is true). \n",
    "\n",
    "Plot the power ($y$-axis) against $p$ ($x$-axis) over each of these scenarios. \n",
    "\n",
    "Interpret/comment on this plot. Specifically, as $p$ gets *further* from the specified $p=p_0$ under the null hypothesis, what happens to the power?"
   ]
  },
  {
   "cell_type": "code",
   "execution_count": 9,
   "metadata": {},
   "outputs": [
    {
     "data": {
      "image/png": "[encoded data removed]",
      "text/plain": [
       "<Figure size 432x288 with 1 Axes>"
      ]
     },
     "metadata": {
      "needs_background": "light"
     },
     "output_type": "display_data"
    }
   ],
   "source": [
    "bias = [x for x in np.arange(0.51,1.01,0.01)] \n",
    "power = []\n",
    "for x in bias:\n",
    "    power.append(1-stats.binom.cdf(58, 100, x))\n",
    "plt.plot(bias,power)\n",
    "plt.xlabel(\"Bias\")\n",
    "plt.ylabel(\"Power\")\n",
    "plt.show()"
   ]
  },
  {
   "cell_type": "markdown",
   "metadata": {},
   "source": [
    "As p gets further from 0.5, the power increases."
   ]
  },
  {
   "cell_type": "markdown",
   "metadata": {},
   "source": [
    "#### Part e)\n",
    "\n",
    "(e) Suppose we allowed other rejection regions than $Y>58$.  Use the ideas in part (d) to answer the following: how many flips $m$ of a coin are necessary to achieve both $\\alpha=0.05$ **and** $\\beta=0.05$ for the hypothesis in part (a)?"
   ]
  },
  {
   "cell_type": "code",
   "execution_count": 10,
   "metadata": {},
   "outputs": [
    {
     "name": "stdout",
     "output_type": "stream",
     "text": [
      "67\n"
     ]
    }
   ],
   "source": [
    "def findFlips(): \n",
    "    for z in bias:\n",
    "        alpha = 1-stats.binom.cdf(int(z*100), 100, 0.58)\n",
    "        beta = stats.binom.cdf(58,100,z)\n",
    "        if alpha <= 0.05 and beta <= 0.05:\n",
    "            return int(z*100)\n",
    "print(findFlips())"
   ]
  },
  {
   "cell_type": "markdown",
   "metadata": {},
   "source": [
    "67 Coin Flips Neccessary"
   ]
  },
  {
   "cell_type": "markdown",
   "metadata": {},
   "source": [
    "The wording on this problem was confusing at best. I still don't fully understand what E is asking. I'd ask on piazza, but no instructor has replied to a question in over a week and a half."
   ]
  }
 ],
 "metadata": {
  "kernelspec": {
   "display_name": "Python 3",
   "language": "python",
   "name": "python3"
  },
  "language_info": {
   "codemirror_mode": {
    "name": "ipython",
    "version": 3
   },
   "file_extension": ".py",
   "mimetype": "text/x-python",
   "name": "python",
   "nbconvert_exporter": "python",
   "pygments_lexer": "ipython3",
   "version": "3.8.5"
  }
 },
 "nbformat": 4,
 "nbformat_minor": 2
}
