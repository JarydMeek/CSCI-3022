{
 "cells": [
  {
   "cell_type": "markdown",
   "metadata": {},
   "source": [
    "<a id='top'></a>\n",
    "\n",
    "# CSCI3022 S21\n",
    "# Homework 4: Using Random Variables\n",
    "***\n",
    "\n",
    "**Name**: Jaryd Meek\n",
    "\n",
    "***\n",
    "\n",
    "This assignment is due on Canvas by **MIDNIGHT on Monday, March 1**. Your solutions to theoretical questions should be done in Markdown directly below the associated question.  Your solutions to computational questions should include any specified Python code and results as well as written commentary on your conclusions.  Remember that you are encouraged to discuss the problems with your classmates, but **you must write all code and solutions on your own**.\n",
    "\n",
    "**NOTES**: \n",
    "\n",
    "- Any relevant data sets should be available on Canvas. To make life easier on the graders if they need to run your code, do not change the relative path names here. Instead, move the files around on your computer.\n",
    "- If you're not familiar with typesetting math directly into Markdown then by all means, do your work on paper first and then typeset it later.  Here is a [reference guide](https://math.meta.stackexchange.com/questions/5020/mathjax-basic-tutorial-and-quick-reference) linked on Canvas on writing math in Markdown. **All** of your written commentary, justifications and mathematical work should be in Markdown.  I also recommend the [wikibook](https://en.wikibooks.org/wiki/LaTeX) for LaTex.\n",
    "- Because you can technically evaluate notebook cells is a non-linear order, it's a good idea to do **Kernel $\\rightarrow$ Restart & Run All** as a check before submitting your solutions.  That way if we need to run your code you will know that it will work as expected. \n",
    "- It is **bad form** to make your reader interpret numerical output from your code.  If a question asks you to compute some value from the data you should show your code output **AND** write a summary of the results in Markdown directly below your code. \n",
    "- 95 points of this assignment are in problems.  The remaining 5 are for neatness, style, and overall exposition of both code and text.\n",
    "- This probably goes without saying, but... For any question that asks you to calculate something, you **must show all work and justify your answers to receive credit**. Sparse or nonexistent work will receive sparse or nonexistent credit. \n",
    "\n",
    "---\n",
    "**Shortcuts:**  [Problem 1](#p1) | [Problem 2](#p2) | [Problem 3](#p3) |\n",
    "---"
   ]
  },
  {
   "cell_type": "code",
   "execution_count": 1,
   "metadata": {},
   "outputs": [],
   "source": [
    "import pandas as pd\n",
    "import numpy as np\n",
    "import matplotlib.pylab as plt\n",
    "import scipy.stats as stats\n",
    "import math\n",
    "%matplotlib inline"
   ]
  },
  {
   "cell_type": "markdown",
   "metadata": {},
   "source": [
    "[Back to top](#top)\n",
    "\n",
    "<a id='p1'></a>\n",
    "\n",
    "## (25 pts) Problem 1 (Theory): Working with Distributions\n",
    "***\n",
    "\n",
    "One takeaway from our exercise on homework 1 might be the statement that \"Boulder has storm that generates over 12 inches of rain **once per 100 years**.\"  Let's explore what that probability statement might imply!\n",
    "\n",
    "**Part A**: Suppose that attempt to *count* occurrences of \"massive rainfall\" with a Poisson process.  For a *fixed* interval of 100 years, we would assert that the rate $\\lambda$ of massive rainfalls is $\\lambda = 1 \\frac{heavy\\, rain}{100 \\, yr \\, interval.}$\n",
    "\n",
    "Using `stats.poisson` and the related functions, print a list of the probabilities of observing exactly $k$ such storms in a 100-year interval for $k=0,1,2,\\dots 10$. "
   ]
  },
  {
   "cell_type": "code",
   "execution_count": 2,
   "metadata": {},
   "outputs": [
    {
     "name": "stdout",
     "output_type": "stream",
     "text": [
      "0 | 0.3679\n",
      "1 | 0.3679\n",
      "2 | 0.1839\n",
      "3 | 0.0613\n",
      "4 | 0.0153\n",
      "5 | 0.0031\n",
      "6 | 0.0005\n",
      "7 | 0.0001\n",
      "8 | 0.0000\n",
      "9 | 0.0000\n",
      "10 | 0.0000\n"
     ]
    }
   ],
   "source": [
    "for x in range(11):\n",
    "    print(\"{} | {:0.4f}\".format(x, stats.poisson.pmf(x,1)))"
   ]
  },
  {
   "cell_type": "markdown",
   "metadata": {},
   "source": [
    "**Part B**: We could instead consider describing the process of \"each year is independently and identically likely to contain a heavy storm with probability $1/100$.\"  This would suggest a different random variable to count the number of heavy storms in a 100 year period.  Which one?\n",
    "\n",
    "Using the appropriate random variable and its implementation in `scipy.stats`, again print a list of the probabilities of observing exactly $k$ storms in a 100-year interval (again, do all of $k=0,1,2,\\dots 10$)."
   ]
  },
  {
   "cell_type": "code",
   "execution_count": 3,
   "metadata": {},
   "outputs": [
    {
     "name": "stdout",
     "output_type": "stream",
     "text": [
      "0 | 0.3660\n",
      "1 | 0.3697\n",
      "2 | 0.1849\n",
      "3 | 0.0610\n",
      "4 | 0.0149\n",
      "5 | 0.0029\n",
      "6 | 0.0005\n",
      "7 | 0.0001\n",
      "8 | 0.0000\n",
      "9 | 0.0000\n",
      "10 | 0.0000\n"
     ]
    }
   ],
   "source": [
    "for x in range(11):\n",
    "    print(\"{} | {:0.4f}\".format(x, stats.binom.pmf(x,100,1/100)))"
   ]
  },
  {
   "cell_type": "markdown",
   "metadata": {},
   "source": [
    "**Part C**: Are your results in Part A and Part B the same?  Why or why not?  What fundamental assumptions are different in using a Poisson model to describe this process instead of the model in Part B?"
   ]
  },
  {
   "cell_type": "markdown",
   "metadata": {},
   "source": [
    "Yes, our results of part A and B are basically the same since the probabilities in both are independent, and its a binary event, either it rains, or it doesn't"
   ]
  },
  {
   "cell_type": "markdown",
   "metadata": {},
   "source": [
    "**Part D**: We could also use the *Geometric* random variable to track an event like \"what is the probability that we *don't* observe a single heavy storm in the 100 year interval.\"  Would this calculation agree with the corresponding probability (observing $k=0$ storms) from the models in Parts A and B?  Why or why not?  You may use code to justify your answer."
   ]
  },
  {
   "cell_type": "code",
   "execution_count": 4,
   "metadata": {},
   "outputs": [
    {
     "name": "stdout",
     "output_type": "stream",
     "text": [
      "Probability we don't observe a single heavy storm in the 100 year interval | 0.3660\n"
     ]
    }
   ],
   "source": [
    "#Function based on the function from the example notebooks\n",
    "def pmf_geo(p,n_max):\n",
    "    pmf = np.array([p*((1-p)**(n-1)) for n in range(1, n_max+1)])\n",
    "    return pmf \n",
    "\n",
    "print(\"Probability we don't observe a single heavy storm in the 100 year interval | {:0.4f}\".format(1-sum(pmf_geo(0.01,100))))"
   ]
  },
  {
   "cell_type": "markdown",
   "metadata": {},
   "source": [
    "The above code calculates the probability that we don't observe a single heavy storm in the 100 year interval.\n",
    "This matches the corresponding probabilities from parts A and B. "
   ]
  },
  {
   "cell_type": "markdown",
   "metadata": {},
   "source": [
    "[Back to top](#top)\n",
    "\n",
    "<a id='p2'></a>\n",
    "\n",
    "## (25 pts) Problem 2 (Computation): Working with Continuous Distributions\n",
    "***\n",
    "Suppose you are creating a model to describe how long it takes you to complete your homework assignments.  For each assignment, the time required is a random variable $X$ that returns the number of hours required for that assignment.  You decide to use the following pdf for $X$:\n",
    "\n",
    "$$\n",
    "f(x) = \\begin{cases}\n",
    "         k \\ x \\ e^{\\left(-\\frac{x^2}{4}\\right)} & 0 \\leq x < \\infty \\\\\n",
    "         0                           & \\text{otherwise}\n",
    "       \\end{cases}\n",
    "$$\n",
    "where $k$ is some normalizing constant.\n",
    "\n",
    "**Part A**: Determine the value of $k$ such that $f(x)$ is a valid probability density function. Then, make a plot of the probability density function, $f(x)$. Be sure to label your plot and axes!"
   ]
  },
  {
   "cell_type": "markdown",
   "metadata": {},
   "source": [
    "$$ \\int_{0}^{\\infty} kxe^{-\\frac{x^2}{4}}\\,dx = 1$$\n",
    "$$ = k \\int_{0}^{\\infty} xe^{-\\frac{x^2}{4}}\\,dx = 1$$\n",
    "$$ = -2k \\int_{0}^{\\infty} e^u\\,du = 1 \\text{ where } u = -\\frac{x^2}{4} \\text{ and } du = \\frac{-x}{2}, dx = \\frac{-2}{x}$$ \n",
    "$$ = -2ke^{-\\frac{x^2}{4}} \\Big|_0^\\infty = 1$$\n",
    "$$ = k(-2e^\\infty - (-2e^0) = 1$$\n",
    "$$ = k(0 + 2) = 1$$\n",
    "$$2k = 1$$\n",
    "$$\\mathbf{k = \\frac{1}{2}}$$"
   ]
  },
  {
   "cell_type": "code",
   "execution_count": 5,
   "metadata": {},
   "outputs": [
    {
     "data": {
      "image/png": "[encoded data removed]",
      "text/plain": [
       "<Figure size 432x288 with 1 Axes>"
      ]
     },
     "metadata": {
      "needs_background": "light"
     },
     "output_type": "display_data"
    }
   ],
   "source": [
    "function = lambda x: 1/2*x*math.e**(-x**2/4)\n",
    "\n",
    "xaxis = np.linspace(0,10)\n",
    "yaxis = function(xaxis)\n",
    "plt.xlabel(\"Time Required\")\n",
    "plt.ylabel(\"Probability\")\n",
    "plt.title(\"PDF of Time Taken To Complete HW\")\n",
    "plt.plot(xaxis, yaxis)\n",
    "plt.show()"
   ]
  },
  {
   "cell_type": "markdown",
   "metadata": {},
   "source": [
    "**Part B**: Compute *by hand* the cumulative density (cdf) function $F(x)$ for $X$."
   ]
  },
  {
   "cell_type": "markdown",
   "metadata": {},
   "source": [
    "$$F(x) = \\int_{0}^{x} \\frac{1}{2}te^{-\\frac{t^2}{4}}\\,dt$$\n",
    "$$\\text{Using integral already calculated in 2A}$$\n",
    "$$ = -e^{-\\frac{t^2}{4}} \\Big|_0^x$$\n",
    "$$ = -e^{-\\frac{x^2}{4}} + 1$$\n",
    "$$F(x) = 1 - e^{-\\frac{x^2}{4}}$$"
   ]
  },
  {
   "cell_type": "markdown",
   "metadata": {},
   "source": [
    "**Part C:**  Use the cdf you derived in **Part B** to calculate the median ($\\tilde{x}$) time required for an assignment."
   ]
  },
  {
   "cell_type": "markdown",
   "metadata": {},
   "source": [
    "The median is where the probability equals 1/2\n",
    "$$F(\\bar{x}) = \\frac{1}{2}$$\n",
    "$$1 - e^{-\\frac{x^2}{4}} = \\frac{1}{2}$$\n",
    "$$e^{-\\frac{x^2}{4}} = \\frac{1}{2}$$\n",
    "$$-\\frac{x^2}{4} = \\ln\\frac{1}{2}$$\n",
    "$$x^2 = 4\\ln2$$\n",
    "$$x = \\sqrt{4\\ln2}$$\n",
    "$$x = 2\\sqrt{\\ln2}$$"
   ]
  },
  {
   "cell_type": "markdown",
   "metadata": {},
   "source": [
    "**Part D**: It is a well-known fact that any assignment that takes longer than 200 minutes is **abhorrent**. Use the cdf you computed in **Part B** to find the probability that any arbitrary assigment that you observe is abhorrent."
   ]
  },
  {
   "cell_type": "markdown",
   "metadata": {},
   "source": [
    "$$\\text{200 mins is 10/3 hours}$$\n",
    "$$P(x \\geq 10/3)$$\n",
    "$$ = 1 - P(x < 10/3)$$\n",
    "$$ = 1 - F(10/3)$$\n",
    "$$ = 1 - (1-e^{-\\frac{(10/3)^2}{4}})$$\n",
    "$$ = 1 - (1- e^{-\\frac{25}{9}})$$\n",
    "$$ \\approx 1 - (1- 0.06218)$$\n",
    "$$ \\approx 1 - 0.9378$$\n",
    "$$ \\approx 0.06218$$\n",
    "$$ \\mathbf{\\approx 6.218\\%}$$"
   ]
  },
  {
   "cell_type": "markdown",
   "metadata": {},
   "source": [
    "**Part E:**  You've done some homework and tallied up the results! Suppose you sample 6 assignment durations, and the duration of any one assignment is independent of the duration of the others. What is the probability that at least 3 but not all of them are **not** abhorrent?"
   ]
  },
  {
   "cell_type": "markdown",
   "metadata": {},
   "source": [
    "P(at least 3 abhorrent (but not all)) = p(3 abhorrent) or p(4 abhorrent) or p(5 abhorrent)\n",
    "\n",
    "$$ \\text{P(3 to 5)} = \\sum_{i=3}^5 {6\\choose i} (0.9378)^i (0.0622)^{6-i}$$\n",
    "$$ \\text{P(3 to 5)} = 0.00397 + 0.04489 + 0.27070$$\n",
    "$$ \\text{P(3 to 5)} = 0.31956$$\n",
    "$$\\mathbf{ \\text{P(3 to 5)} = 31.956\\%}$$"
   ]
  },
  {
   "cell_type": "markdown",
   "metadata": {},
   "source": [
    "[Back to top](#top)\n",
    "\n",
    "<a id='p3'></a>\n",
    "\n",
    "## (45 pts) Problem 3: Simulation (Stochastic Integration)\n",
    "***\n",
    "\n",
    "One really cool application of random variables is using them to approximate integrals/areas - an extension of the estimation of $\\pi$ done in nb04.  The random method of approximating integrals is used frequently in computational science to approximate really difficult integrals that we *never* want to do by hand.  In this exercise you'll figure out how we can do this in practice and test your method on an integral that we could do by hand. "
   ]
  },
  {
   "cell_type": "markdown",
   "metadata": {
    "collapsed": true
   },
   "source": [
    "**Part A.**  Let $L$ be a random variable representing how happy your new desk plant, Fernoulli Jr., is today.  It's measured by the **Lushness Index** (LI).  Suppose the probability density function for $L$ is on a scale from zero to one, and is described by an arcsine function:\n",
    "\n",
    "$$\n",
    "f_L(a) = \\begin{cases}\n",
    "         \\left(\\frac{1}{\\frac{\\pi}{2}-1}\\right)\\sin^{-1}(a) & 0 \\leq a \\leq 1 \\\\\n",
    "         0                           & \\text{otherwise}\n",
    "         \\end{cases}\n",
    "$$\n",
    "\n",
    "A Lushness Index of 1 means Fernoulli Jr. is feeling  well-watered, content, and ready to perform binary statistical experiments.  A Lushness Index of 0 means that your plant is really in need of some more sunlight.  \n",
    "\n",
    "\n",
    "\n",
    "Compute **by hand**, the integral of $f(a)$ for $0 \\leq a \\leq 1/2$.  Write a sentence or two to interpret your result physically, in the context of this problem set-up.\n",
    "\n",
    "*Hint*: this is classically an integral that makes use of the fact that $\\frac{d}{dx} \\sin^{-1}(x)=\\frac{1}{\\sqrt{1-x^2}}$.  That sounds like *\"part\"* of the solution.  You should also probably make sure you take a look at the plot of $f$, making mental note of it's minima, maxima, etc. over that interval."
   ]
  },
  {
   "cell_type": "markdown",
   "metadata": {},
   "source": [
    "$$\\int_{0}^{0.5}\\left(\\frac{1}{\\frac{\\pi}{2}-1}\\right)\\sin^{-1}(a)$$\n",
    "$$= \\left(\\frac{1}{\\frac{\\pi}{2}-1}\\right)\\int_{0}^{0.5}\\sin^{-1}(a)$$\n",
    "$$= f = \\sin^-1(a) g' = 1, f' = \\frac{1}{\\sqrt(1-a^2)} g = a \\quad \\quad \\text { (begin integration by parts)}$$\n",
    "$$= \\left(\\frac{1}{\\frac{\\pi}{2}-1}\\right)\\left(a\\sin^{-1}(a) - \\int_{0}^{0.5} \\frac{a}{\\sqrt{1-a^2}}\\right)$$\n",
    "$$= u = 1-a^2  du = -2ada, da = -\\frac{1}{2a}du \\quad \\quad \\text { (begin u subsititution)}$$\n",
    "$$= \\left(\\frac{1}{\\frac{\\pi}{2}-1}\\right)\\left(a\\sin^{-1}(a) - \\frac{-1}{2}\\int_{0}^{0.5} \\frac{1}{\\sqrt{u}}\\right)$$\n",
    "$$= \\left(\\frac{1}{\\frac{\\pi}{2}-1}\\right)\\left(a\\sin^{-1}(a) - \\frac{-1}{2} \\cdot 2\\sqrt{u}\\right) \\;\\; \\Big|_0^{0.5}$$\n",
    "$$= \\left(\\frac{1}{\\frac{\\pi}{2}-1}\\right)\\left(a\\sin^{-1}(a) - (-\\sqrt{u})\\right) \\;\\; \\Big|_0^{0.5}$$\n",
    "$$= \\left(\\frac{1}{\\frac{\\pi}{2}-1}\\right)\\left(a\\sin^{-1}(a) + \\sqrt{1-a^2}\\right) \\;\\; \\Big|_0^{0.5}$$\n",
    "$$= \\left(\\frac{1}{\\frac{\\pi}{2}-1}\\right)\\left(0.5\\sin^{-1}(0.5) + \\sqrt{1-(0.5)^2}\\right) - \\left(\\frac{1}{\\frac{\\pi}{2}-1}\\right)\\left(0\\sin^{-1}(0) + \\sqrt{1-(0)^2}\\right)$$\n",
    "$$\\mathbf{\\approx 0.22394}$$\n",
    "\n",
    "\n",
    "There is a 22.394% chance that Fernoulli Jr. has a Lushness Index of 0.5 or below."
   ]
  },
  {
   "cell_type": "markdown",
   "metadata": {},
   "source": [
    "**Part B.** What is the maximum of $f_L(a)$ over the interval $[0,1]$?  For the rest of the problem, we will refer to this value by $m$."
   ]
  },
  {
   "cell_type": "markdown",
   "metadata": {},
   "source": [
    "Graph the function and solve for the maximum value"
   ]
  },
  {
   "cell_type": "code",
   "execution_count": 6,
   "metadata": {},
   "outputs": [
    {
     "data": {
      "image/png": "[encoded data removed]",
      "text/plain": [
       "<Figure size 432x288 with 1 Axes>"
      ]
     },
     "metadata": {
      "needs_background": "light"
     },
     "output_type": "display_data"
    }
   ],
   "source": [
    "function = lambda x: np.arcsin(x)/((math.pi/2)-1)\n",
    "\n",
    "xaxis = np.linspace(0,1)\n",
    "yaxis = function(xaxis)\n",
    "plt.plot(xaxis, yaxis)\n",
    "plt.grid()\n",
    "plt.show()"
   ]
  },
  {
   "cell_type": "markdown",
   "metadata": {},
   "source": [
    "We can see that the maximum value occurs at X=1, so we can solve for that."
   ]
  },
  {
   "cell_type": "code",
   "execution_count": 7,
   "metadata": {},
   "outputs": [
    {
     "name": "stdout",
     "output_type": "stream",
     "text": [
      "Maximum of the function over the interval [0,1] | 2.7519\n"
     ]
    }
   ],
   "source": [
    "print(\"Maximum of the function over the interval [0,1] | {:0.4f}\".format(function(1)))"
   ]
  },
  {
   "cell_type": "markdown",
   "metadata": {},
   "source": [
    "# m = 2.7519"
   ]
  },
  {
   "cell_type": "markdown",
   "metadata": {},
   "source": [
    "**Part C.** Suppose we sample a continuous uniform random variable $X\\sim U(0,1/2)$ and another  random variable $Y \\sim U(0,m)$ and think of them as $x$- and $y$-coordinates of a point in the box $[0,1/2] \\times [0,m]$, or inside the box composed of all points $\\{(x,y)\\,|\\, x \\in [0,1/2], y \\in [0,m]\\}.$  \n",
    "\n",
    "If we compute the ratio of points that fall under the curve $f(x)$ to the total points sampled, what does this value estimate? "
   ]
  },
  {
   "cell_type": "markdown",
   "metadata": {},
   "source": [
    "This value is the estimate of the integral from $[0, 0.5]$"
   ]
  },
  {
   "cell_type": "markdown",
   "metadata": {},
   "source": [
    "**Part D.** How could we modify the process outlined in the previous part so that our estimator estimates the value of the desired integral?  If you need inspiration, check out the in-class notebook on Stochastic Simulation (#4), specifically, the exercise where we estimated $\\pi$!"
   ]
  },
  {
   "cell_type": "markdown",
   "metadata": {},
   "source": [
    "It is possible to modify X so that it is in the range $[0, b]$ while Y maintains its bounds.\n",
    "\n",
    "Then in order to approximate the integral, we can use the ratio of the number of points under the curve to total points and multiply it by $b \\cdot m$\n",
    "\n",
    "d = total number below the curve\n",
    "\n",
    "t = total number of points\n",
    "\n",
    "then,\n",
    "\n",
    "\n",
    "$$\\text{Approximate(b)} = b\\cdot m \\cdot \\frac{d}{t}$$"
   ]
  },
  {
   "cell_type": "markdown",
   "metadata": {},
   "source": [
    "**Part E.** Complete the function `integrate` below to compute an approximation to the definition integral $\\int_0^{\\text{ub}} f(x)dx$.  Your function should take as arguments:\n",
    "1. `num_samples` -- the number of points to sample,\n",
    "2. `ub` -- a number between $0$ and $1$ that is the upper bound of the integral, and\n",
    "3. `isPlot` -- a Boolean flag for whether or not to display a plot of the results.\n",
    "\n",
    "Your function should return an approximation of the definite integral by sampling $X$ from $U(0,\\text{ub})$ and $Y$ from $U(0,m)$. For each random draw $(X,Y)$, define the random variable $Z$ that represents whether or not the sampled $Y$ value is less than $f(X)$ for the corresponding $X$ value.\n",
    "\n",
    "Your function should perform three tasks: \n",
    "\n",
    "1. return the estimate of the value of the integral,\n",
    "2. return the sample variance of the random variable $Z$ being simulated, using the np.var function, and\n",
    "3. if `isPlot` is True, plot the curve $f(x)$ as well as the location of the points $(X,Y)$, colored according to whether they fall above or below the curve. "
   ]
  },
  {
   "cell_type": "code",
   "execution_count": 8,
   "metadata": {},
   "outputs": [],
   "source": [
    "# GIVEN CODE - Do not change the inputs/outputs or your code will fail unit tests and auto-grading!\n",
    "def asin(x):\n",
    "    return (np.arcsin(x))/(np.pi/2-1)\n",
    "\n",
    "def integrate(num_samples, ub, isPlot):\n",
    "    #computations for estimated area here\n",
    "    xValues = np.random.uniform(0, ub, num_samples)\n",
    "    yValues = np.random.uniform(0, asin(1), num_samples)\n",
    "    \n",
    "    array = np.array(list(zip(xValues, yValues)))\n",
    "    \n",
    "    under = sum(asin(xValues) >= yValues)\n",
    "    \n",
    "    estimate = ub * asin(1) * under/num_samples\n",
    "    \n",
    "    sample_var = np.var(array, ddof=1)\n",
    "    \n",
    "    if isPlot:\n",
    "        fig, ax = plt.subplots(nrows=1, ncols=1, figsize=(12,6)) \n",
    "        #plot here\n",
    "        \n",
    "        points_over = [(xi,yi) for xi, yi in zip(xValues, yValues) if asin(xi) < yi]\n",
    "        points_under = [(xi,yi) for xi, yi in zip(xValues, yValues) if asin(xi) >= yi]\n",
    "\n",
    "        xspace = np.linspace(0, 1)\n",
    "        plt.plot(xspace, asin(xspace), c='black')\n",
    "        plt.scatter(*zip(*points_over),c='magenta')\n",
    "        plt.scatter(*zip(*points_under),c='dodgerblue')\n",
    "        plt.show()\n",
    "        \n",
    "    return estimate, sample_var "
   ]
  },
  {
   "cell_type": "markdown",
   "metadata": {},
   "source": [
    "**Part F.** Write your own small unit tests!\n",
    "\n",
    "First, what should your `integrate` function output if you plug in `ub=0`? Set that as `int_0_to_0` below.\n",
    "\n",
    "Second, what should your `integrate` function output if you plug in `ub=`1?  (Is this actually a valid pdf?) Set that as `int_0_to_1` below.\n",
    "\n",
    "Then, you can execute the cell below to run two sanity checks. Write out **in math** (like, a definite integral) what each of these two tests is checking and **why** that is a reasonable sanity check.\n",
    "\n",
    "If these two assertions run without fail, then things seem to be working okay. Note that the upper endpoint test involves randomness, so if it fails, try running it a few times. If it fails a lot, then things are probably going wrong."
   ]
  },
  {
   "cell_type": "code",
   "execution_count": 9,
   "metadata": {},
   "outputs": [],
   "source": [
    "int_0_to_0  =   0\n",
    "int_0_to_1 =  1\n",
    "\n",
    "\n",
    "#---------------------------------------\n",
    "# DO NOT EDIT THIS CELL BELOW HERE\n",
    "#---------------------------------------\n",
    "assert integrate(1000, 0, False)[0]==int_0_to_0, \"Error: lower endpoint test failing\"\n",
    "assert math.isclose(integrate(10000, 1, False)[0],int_0_to_1,abs_tol=0.03), \"Error: upper endpoint test failing\""
   ]
  },
  {
   "cell_type": "markdown",
   "metadata": {},
   "source": [
    "If our function works, it should evaluate 0 to 1 to be 1 since it's integrating the total probability, which should be 1, also it should evaluate 0 to 0 to be 0, since its calculating the area under a single point, so there is no area."
   ]
  },
  {
   "cell_type": "markdown",
   "metadata": {},
   "source": [
    "**Part G.** Run your simulation with `isPlot=True` and `ub=`$1/2$ for 1,000 samples so we can see your plot. Then, run your simulation (with `isPlot=False`) with at least 10,000 samples and estimate the value of the given integral. Be sure to leave your cells evaluated for the graders! Does your estimate agree with the exact value of the integral you computed in **Part A**?  As a whole, what advantage does this process offer over actually doing the integral by hand?"
   ]
  },
  {
   "cell_type": "code",
   "execution_count": 10,
   "metadata": {},
   "outputs": [
    {
     "data": {
      "image/png": "[encoded data removed]",
      "text/plain": [
       "<Figure size 864x432 with 1 Axes>"
      ]
     },
     "metadata": {
      "needs_background": "light"
     },
     "output_type": "display_data"
    },
    {
     "name": "stdout",
     "output_type": "stream",
     "text": [
      "With 1000 datapoints, the integral from 0 to 1 is approximately 0.23 with a variance of 0.61\n",
      "With 10000 datapoints, the integral from 0 to 1 is approximately 0.23 with a variance of 0.64\n"
     ]
    }
   ],
   "source": [
    "#Integrate, plot, and estimate!\n",
    "approximate, variance = integrate(1000, 1/2, True)\n",
    "print(f\"With 1000 datapoints, the integral from 0 to 1 is approximately {approximate:.2f} with a variance of {variance:.2f}\")\n",
    "\n",
    "approximate, variance = integrate(10000, 1/2, False)\n",
    "print(f\"With 10000 datapoints, the integral from 0 to 1 is approximately {approximate:.2f} with a variance of {variance:.2f}\")\n"
   ]
  },
  {
   "cell_type": "markdown",
   "metadata": {},
   "source": [
    "The more datapoints, the more accurate our estimate. \n",
    "\n",
    "Yes, this equation does mirror the integral from part a, with our function estimating the area to be 0.23 while our calculated integral was 0.22394. The advantage of solving the integral this way is that it can approximate integrals that would be difficult or even impossible to do by hand."
   ]
  }
 ],
 "metadata": {
  "kernelspec": {
   "display_name": "Python 3",
   "language": "python",
   "name": "python3"
  },
  "language_info": {
   "codemirror_mode": {
    "name": "ipython",
    "version": 3
   },
   "file_extension": ".py",
   "mimetype": "text/x-python",
   "name": "python",
   "nbconvert_exporter": "python",
   "pygments_lexer": "ipython3",
   "version": "3.8.5"
  }
 },
 "nbformat": 4,
 "nbformat_minor": 2
}
